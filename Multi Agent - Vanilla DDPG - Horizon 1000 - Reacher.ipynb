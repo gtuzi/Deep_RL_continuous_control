{
 "cells": [
  {
   "cell_type": "markdown",
   "metadata": {},
   "source": [
    "# Deep Deterministic Policy Gradients (DDPG)\n",
    "---\n",
    "In this notebook, we train DDPG with Unity's Reacher environment. Single agent\n",
    "\n",
    "### 1. Import the Necessary Packages"
   ]
  },
  {
   "cell_type": "code",
   "execution_count": null,
   "metadata": {},
   "outputs": [],
   "source": [
    "!pip -q install ./python"
   ]
  },
  {
   "cell_type": "code",
   "execution_count": 1,
   "metadata": {},
   "outputs": [],
   "source": [
    "import gym\n",
    "import random\n",
    "import torch\n",
    "import numpy as np\n",
    "from collections import deque\n",
    "import matplotlib.pyplot as plt\n",
    "%matplotlib inline\n",
    "\n",
    "from tensorboardX import SummaryWriter\n",
    "from unityagents import UnityEnvironment\n",
    "from udacity.ddpg_agent1 import Agent"
   ]
  },
  {
   "cell_type": "code",
   "execution_count": 2,
   "metadata": {},
   "outputs": [],
   "source": [
    "def get_env():\n",
    "    from sys import platform as _platform\n",
    "    if _platform == \"linux\" or _platform == \"linux2\":\n",
    "        # linux\n",
    "        env = UnityEnvironment(file_name=\"./Reacher_Linux_Multi/Reacher.x86_64\", no_graphics = True)\n",
    "    elif _platform == \"darwin\":\n",
    "       # MAC OS X\n",
    "       env = UnityEnvironment(file_name=\"Reacher_Multi.app\", no_graphics = False)\n",
    "    return env\n",
    "\n",
    "\n",
    "def welcome():\n",
    "    env = get_env()\n",
    "\n",
    "    # get the default brain\n",
    "    brain_name = env.brain_names[0]\n",
    "    brain = env.brains[brain_name]\n",
    "\n",
    "    # reset the environment\n",
    "    env_info = env.reset(train_mode=True)[brain_name]\n",
    "\n",
    "    # number of agents\n",
    "    num_agents = len(env_info.agents)\n",
    "\n",
    "    # size of each action\n",
    "    action_size = brain.vector_action_space_size\n",
    "\n",
    "    # examine the state space\n",
    "    states = env_info.vector_observations\n",
    "    state_size = states.shape[1]\n",
    "    print('Number of agents:', num_agents)\n",
    "    print('Size of each action:', action_size)\n",
    "    print('There are {} agents. Each observes a state with length: {}'.format(states.shape[0], state_size))\n",
    "\n",
    "    return env, state_size, action_size"
   ]
  },
  {
   "cell_type": "code",
   "execution_count": null,
   "metadata": {},
   "outputs": [],
   "source": []
  },
  {
   "cell_type": "code",
   "execution_count": 3,
   "metadata": {},
   "outputs": [],
   "source": [
    "import sys\n",
    "import time\n",
    "\n",
    "def ddpg(env, agent, n_episodes=2000, max_t=int(10000), prefix=''):\n",
    "    scores_deque = deque(maxlen=100)\n",
    "    scores = []\n",
    "    episode_horizons = deque(maxlen=100)\n",
    "    max_score = -np.Inf\n",
    "    brain_name = env.brain_names[0]\n",
    "\n",
    "    for i_episode in range(1, n_episodes+1):\n",
    "        env_info = env.reset(train_mode=True)[brain_name]\n",
    "        state = env_info.vector_observations\n",
    "        n_agents = state.shape[0]\n",
    "        agent.reset()\n",
    "        score = np.zeros((n_agents, 1), dtype=np.float32)\n",
    "        for t in range(max_t):\n",
    "            action = agent.act(state)\n",
    "            env_info = env.step(action)[brain_name]\n",
    "            next_state = env_info.vector_observations\n",
    "            reward = np.array(env_info.rewards)[..., None]\n",
    "            done = np.array(env_info.local_done)[..., None]\n",
    "            if t+1 == max_t:\n",
    "                done = np.ones_like(done, dtype = np.bool)\n",
    "\n",
    "            agent.step(state, action, reward, next_state, done)\n",
    "            state = next_state\n",
    "            score += reward\n",
    "            if np.all(done):\n",
    "                episode_horizons.append(t)\n",
    "                break\n",
    "        \n",
    "        scores_deque.append(score)\n",
    "        scores.append(score)\n",
    "        writer.add_scalar('score_G', np.mean(scores), i_episode)\n",
    "        \n",
    "        _mu_score_moving = np.mean(np.mean(scores_deque, axis = 1))\n",
    "        print('\\rEpisode {}\\t100-episode avg score: {:.2f}\\tScore: {:.2f}\\tTime Step: {}'.format(i_episode, _mu_score_moving, float(np.mean(score)), agent.total_steps), end=\"\")\n",
    "\n",
    "        if i_episode % 50 == 0:\n",
    "            print('\\rEpisode {}\\t100-episode avg score: {:.2f}\\tAvg. Horizon: {:.2f}'.format(i_episode, _mu_score_moving, np.mean(episode_horizons)))\n",
    "\n",
    "\n",
    "        if (np.mean(scores_deque) >= 30.) and (i_episode > 99):\n",
    "            print('The environment was solved in {} episodes'.format(i_episode))\n",
    "            break\n",
    "\n",
    "    torch.save(agent.actor_local.state_dict(), './models/{}checkpoint_actor_multi.pth'.format(prefix))\n",
    "    torch.save(agent.critic_local.state_dict(), './models/{}checkpoint_critic_multi.pth'.format(prefix))\n",
    "    return scores"
   ]
  },
  {
   "cell_type": "code",
   "execution_count": null,
   "metadata": {},
   "outputs": [],
   "source": []
  },
  {
   "cell_type": "markdown",
   "metadata": {},
   "source": [
    "### 2. Instantiate the Environment"
   ]
  },
  {
   "cell_type": "code",
   "execution_count": 4,
   "metadata": {},
   "outputs": [
    {
     "name": "stderr",
     "output_type": "stream",
     "text": [
      "INFO:unityagents:\n",
      "'Academy' started successfully!\n",
      "Unity Academy name: Academy\n",
      "        Number of Brains: 1\n",
      "        Number of External Brains : 1\n",
      "        Lesson number : 0\n",
      "        Reset Parameters :\n",
      "\t\tgoal_speed -> 1.0\n",
      "\t\tgoal_size -> 5.0\n",
      "Unity brain name: ReacherBrain\n",
      "        Number of Visual Observations (per agent): 0\n",
      "        Vector Observation space type: continuous\n",
      "        Vector Observation space size (per agent): 33\n",
      "        Number of stacked Vector Observation: 1\n",
      "        Vector Action space type: continuous\n",
      "        Vector Action space size (per agent): 4\n",
      "        Vector Action descriptions: , , , \n"
     ]
    },
    {
     "name": "stdout",
     "output_type": "stream",
     "text": [
      "Number of agents: 20\n",
      "Size of each action: 4\n",
      "There are 20 agents. Each observes a state with length: 33\n"
     ]
    }
   ],
   "source": [
    "env, state_size, action_size = welcome()"
   ]
  },
  {
   "cell_type": "markdown",
   "metadata": {},
   "source": [
    "### 3. Train the Agent with DDPG\n",
    "\n",
    "Run the code cell below to train the agent from scratch.  Alternatively, you can skip to the next code cell to load the pre-trained weights from file."
   ]
  },
  {
   "cell_type": "code",
   "execution_count": 5,
   "metadata": {},
   "outputs": [],
   "source": [
    "max_t = 1000\n",
    "n_episodes = 1000"
   ]
  },
  {
   "cell_type": "code",
   "execution_count": 6,
   "metadata": {},
   "outputs": [
    {
     "name": "stdout",
     "output_type": "stream",
     "text": [
      "Episode 50\tAverage Score: 4.95\tAvg. Horizon: 999.00ep: 50000\n",
      "Episode 100\tAverage Score: 9.02\tAvg. Horizon: 999.00ep: 100000\n",
      "Episode 150\tAverage Score: 15.04\tAvg. Horizon: 999.00ep: 150000\n",
      "Episode 200\tAverage Score: 19.97\tAvg. Horizon: 999.00ep: 200000\n",
      "Episode 250\tAverage Score: 24.28\tAvg. Horizon: 999.00ep: 250000\n",
      "Episode 300\tAverage Score: 26.21\tAvg. Horizon: 999.00ep: 300000\n",
      "Episode 350\tAverage Score: 26.69\tAvg. Horizon: 999.00ep: 350000\n",
      "Episode 400\tAverage Score: 25.34\tAvg. Horizon: 999.00ep: 400000\n",
      "Episode 450\tAverage Score: 23.30\tAvg. Horizon: 999.00ep: 450000\n",
      "Episode 500\tAverage Score: 22.70\tAvg. Horizon: 999.00ep: 500000\n",
      "Episode 550\tAverage Score: 22.07\tAvg. Horizon: 999.00ep: 550000\n",
      "Episode 600\tAverage Score: 20.87\tAvg. Horizon: 999.00ep: 600000\n",
      "Episode 650\tAverage Score: 20.33\tAvg. Horizon: 999.00ep: 650000\n",
      "Episode 700\tAverage Score: 22.65\tAvg. Horizon: 999.00ep: 700000\n",
      "Episode 750\tAverage Score: 24.38\tAvg. Horizon: 999.00ep: 750000\n",
      "Episode 800\tAverage Score: 24.15\tAvg. Horizon: 999.00ep: 800000\n",
      "Episode 850\tAverage Score: 22.53\tAvg. Horizon: 999.00ep: 850000\n",
      "Episode 900\tAverage Score: 20.61\tAvg. Horizon: 999.00ep: 900000\n",
      "Episode 950\tAverage Score: 19.50\tAvg. Horizon: 999.00ep: 950000\n",
      "Episode 1000\tAverage Score: 17.78\tAvg. Horizon: 999.00ep: 1000000\n"
     ]
    }
   ],
   "source": [
    "writer = SummaryWriter(log_dir='./logs/vanilla_ddpg_multi/horizon_{}'.format(max_t))\n",
    "agent = Agent(state_size=state_size, \n",
    "              action_size=action_size, \n",
    "              random_seed = 10, \n",
    "              writer=writer)\n",
    "scores = ddpg(env, agent, n_episodes=n_episodes, max_t = max_t, prefix='vanilla_ddpg_')"
   ]
  },
  {
   "cell_type": "code",
   "execution_count": null,
   "metadata": {},
   "outputs": [],
   "source": []
  },
  {
   "cell_type": "code",
   "execution_count": 7,
   "metadata": {},
   "outputs": [
    {
     "data": {
      "image/png": "[encoded data removed]",
      "text/plain": [
       "<Figure size 432x288 with 1 Axes>"
      ]
     },
     "metadata": {
      "needs_background": "light"
     },
     "output_type": "display_data"
    }
   ],
   "source": [
    "fig = plt.figure()\n",
    "ax = fig.add_subplot(111)\n",
    "plt.plot(np.arange(1, len(scores)+1), [np.mean(s) for s in scores])\n",
    "plt.ylabel('Score')\n",
    "plt.xlabel('Episode #')\n",
    "plt.show()"
   ]
  },
  {
   "cell_type": "code",
   "execution_count": null,
   "metadata": {},
   "outputs": [],
   "source": []
  }
 ],
 "metadata": {
  "kernelspec": {
   "display_name": "Python 3",
   "language": "python",
   "name": "python3"
  },
  "language_info": {
   "codemirror_mode": {
    "name": "ipython",
    "version": 3
   },
   "file_extension": ".py",
   "mimetype": "text/x-python",
   "name": "python",
   "nbconvert_exporter": "python",
   "pygments_lexer": "ipython3",
   "version": "3.5.5"
  }
 },
 "nbformat": 4,
 "nbformat_minor": 2
}
