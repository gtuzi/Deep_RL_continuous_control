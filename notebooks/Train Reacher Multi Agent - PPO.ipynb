{
 "cells": [
  {
   "cell_type": "markdown",
   "metadata": {},
   "source": [
    "# PPO \n",
    "### Author: Gerti Tuzi"
   ]
  },
  {
   "cell_type": "markdown",
   "metadata": {},
   "source": [
    "###### Network:\n",
    " - Shared latent features body\n",
    " - Action head (mean): used in Normal(mu, sig)\n",
    " - Value head: estimates the return\n",
    " \n",
    "##### Highlights:\n",
    " - CRITICAL: Std. deviation parameter of the policy is NOT learned. \n",
    "    Rather it is used as an exploratory parameter (stochastic policy, remember ?).\n",
    "    Similar to eps in greedy-eps (i.e. linearly annealed).\n",
    " - No gradients are computed starting from std. deviation which we're modifying. \n",
    "    This is not too clear from paper.\n",
    " - Std. dev parametrized as log(std.dev)\n",
    " - Used disounted future returns as V_target (needed in value loss, VF, computation).\n",
    " - Mean normalized advantages\n",
    " - Using GAE, generalized advantage estimation (?) form, just like in paper.\n",
    " - Log std.dev is annealed linearly \n",
    " - Large batch size for multiple-agents\n",
    " - Number of training epochs (after each episode) is large (~10 to ~20)\n",
    " - Important: buffer must be large enough for all agents over each rollout.\n",
    " - LR and eps-clip are annealed linearly using multipicative alpha (1 --> 0)\n",
    " - Value loss (VF) coefficient 10 ( in paper authors used 1).\n",
    " - Implemented pg-loss tricks from OpenAI's PPO2.\n",
    " - Used large gradient clip (10). \n",
    "'''"
   ]
  },
  {
   "cell_type": "code",
   "execution_count": 1,
   "metadata": {},
   "outputs": [],
   "source": [
    "import os\n",
    "import sys\n",
    "module_path = os.path.abspath(os.path.join('..'))\n",
    "if module_path not in sys.path:\n",
    "    sys.path.append(module_path)\n",
    "    \n",
    "import numpy as np\n",
    "from collections import deque\n",
    "import torch\n",
    "from tensorboardX import SummaryWriter\n",
    "from unityagents import UnityEnvironment\n",
    "from agents.ppo_agent import Agent\n",
    "from agents.utils.RunConfig import RunConfig\n",
    "from agents.utils.buffers import Experience\n",
    "import pickle\n",
    "import os\n",
    "from matplotlib import pyplot as plt\n",
    "import seaborn as sns"
   ]
  },
  {
   "cell_type": "markdown",
   "metadata": {},
   "source": [
    "##### Load environement"
   ]
  },
  {
   "cell_type": "code",
   "execution_count": 2,
   "metadata": {},
   "outputs": [],
   "source": [
    "def get_env(seed):\n",
    "    from sys import platform as _platform\n",
    "    if _platform == \"linux\" or _platform == \"linux2\":\n",
    "       # linux\n",
    "        env = UnityEnvironment(file_name=\"../unity_envs/Reacher_Linux/Reacher.x86_64\", seed=seed)\n",
    "    elif _platform == \"darwin\":\n",
    "       # MAC OS X\n",
    "       env = UnityEnvironment(file_name=\"../unity_envs/Reacher.app\", no_graphics = False, seed=seed)\n",
    "    return env\n",
    "\n",
    "def get_train_env_multi(seed):\n",
    "    from sys import platform as _platform\n",
    "    if _platform == \"linux\" or _platform == \"linux2\":\n",
    "       # linux\n",
    "        env = UnityEnvironment(file_name=\"../unity_envs/Reacher_Linux_Multi/Reacher.x86_64\", seed=seed)\n",
    "    elif _platform == \"darwin\":\n",
    "       # MAC OS X\n",
    "       env = UnityEnvironment(file_name=\"../unity_envs/Reacher_Multi.app\", no_graphics = False, seed=seed)\n",
    "    return env\n",
    "\n",
    "def welcome(seed, multi = True):\n",
    "    if multi:\n",
    "        env = get_train_env_multi(seed)\n",
    "    else:\n",
    "        env = get_env(seed)\n",
    "\n",
    "    # get the default brain\n",
    "    brain_name = env.brain_names[0]\n",
    "    brain = env.brains[brain_name]\n",
    "\n",
    "    # reset the environment\n",
    "    env_info = env.reset(train_mode=True)[brain_name]\n",
    "\n",
    "    # number of agents\n",
    "    num_agents = len(env_info.agents)\n",
    "\n",
    "    # size of each action\n",
    "    action_size = brain.vector_action_space_size\n",
    "\n",
    "    # examine the state space\n",
    "    states = env_info.vector_observations\n",
    "    state_size = states.shape[1]\n",
    "    print('Number of agents:', num_agents)\n",
    "    print('Size of each action:', action_size)\n",
    "    print('There are {} agents. Each observes a state with length: {}'.format(states.shape[0], state_size))\n",
    "\n",
    "    return env, state_size, action_size, num_agents\n"
   ]
  },
  {
   "cell_type": "code",
   "execution_count": 3,
   "metadata": {},
   "outputs": [],
   "source": [
    "def plot_data(data, title, color = 'b'):\n",
    "    fig = plt.figure()\n",
    "    sns.tsplot(data, color=color)\n",
    "    plt.xlabel('Episode', fontsize = 16)\n",
    "    plt.ylabel('Avg. Episodic Return', fontsize = 20)\n",
    "    plt.title(title, fontsize=30)\n",
    "    plt.show()\n",
    "\n",
    "\n",
    "def plot_scores(data):\n",
    "    train_scores = []\n",
    "    eval_scores = []\n",
    "    for k, v in data.items():\n",
    "        train_score_i = v[0]\n",
    "        eval_scores_i = v[1]\n",
    "        train_score_i = np.mean(np.array(train_score_i), axis=1).tolist()\n",
    "        eval_scores_i = np.mean(np.array(eval_scores_i), axis=1).tolist()\n",
    "        train_scores.append(train_score_i)\n",
    "        eval_scores.append(eval_scores_i)\n",
    "\n",
    "    plot_data(train_scores, 'Train Scores', color='b')\n",
    "    plot_data(train_scores, 'Eval Scores', color='r')"
   ]
  },
  {
   "cell_type": "code",
   "execution_count": 4,
   "metadata": {},
   "outputs": [],
   "source": [
    "def save_model(agent, dir, prefix=''):\n",
    "    if not os.path.exists(dir + prefix):\n",
    "        os.makedirs(dir + prefix)\n",
    "    torch.save(agent.net.state_dict(), dir + prefix + 'net.pth')\n",
    "    return dir + prefix + 'net.pth'"
   ]
  },
  {
   "cell_type": "markdown",
   "metadata": {},
   "source": [
    "### Simulation Methods"
   ]
  },
  {
   "cell_type": "code",
   "execution_count": 5,
   "metadata": {},
   "outputs": [],
   "source": [
    "def eval_ppo(env, agent):\n",
    "    brain_name = env.brain_names[0]\n",
    "    env_info = env.reset(train_mode=True)[brain_name]  # reset the environment\n",
    "    states = env_info.vector_observations  # get the current state (for each train_agent)\n",
    "    num_agents = len(env_info.agents)\n",
    "    G = np.zeros(num_agents)  # Undiscounted return for each train_agent\n",
    "\n",
    "    t = 0\n",
    "    while True:\n",
    "        actions = agent.test_act(states)                        # select an action from train_agent\n",
    "        env_info = env.step(actions)[brain_name]                # send all actions to tne environment\n",
    "        next_states = env_info.vector_observations              # get next state (for each train_agent)\n",
    "        rewards = np.array(env_info.rewards)                    # get reward (for each train_agent)\n",
    "        dones = np.array(env_info.local_done)                   # see if episode finished\n",
    "        G += rewards                                            # update the score (for each train_agent)\n",
    "        if np.any(dones):                                       # exit loop if episode finished\n",
    "            break\n",
    "        else:\n",
    "            states = next_states                                # roll over states to next time step\n",
    "            t += 1\n",
    "    return G\n"
   ]
  },
  {
   "cell_type": "markdown",
   "metadata": {},
   "source": [
    "###### Simulation run"
   ]
  },
  {
   "cell_type": "code",
   "execution_count": 6,
   "metadata": {},
   "outputs": [],
   "source": [
    "def ppo(env, agent, n_episodes=2500, max_t=int(1000), prefix = '', algo ='ppo'):\n",
    "    scores_deque = deque(maxlen=100)\n",
    "    brain_name = env.brain_names[0]\n",
    "    undisc_G = []\n",
    "    undisc_eval_G = []\n",
    "    best_score = -np.Inf\n",
    "    env_solved = False\n",
    "    for i_episode in range(n_episodes):\n",
    "        score = 0\n",
    "        # Generate episode under current policy\n",
    "        traces = []\n",
    "        for actor in range(2):\n",
    "            env_info = env.reset(train_mode=True)[brain_name]\n",
    "            s = env_info.vector_observations\n",
    "            trace = []\n",
    "            # -------- Sample the episode ----------- #\n",
    "            for t in range(max_t):\n",
    "                a, log_p, v = agent.act(s)\n",
    "                env_info = env.step(a)[brain_name]\n",
    "                sp = env_info.vector_observations\n",
    "                r = np.array(env_info.rewards)[..., None]\n",
    "                done = np.array(env_info.local_done)[..., None]\n",
    "                if t+1 == max_t or np.all(done):\n",
    "                    done = np.ones_like(done, dtype=np.bool)\n",
    "\n",
    "                trace.append(Experience(s=s, a = a, r = r, sp = sp, logp = log_p, v = v, done = done.astype(np.float32)))\n",
    "                if np.all(done):\n",
    "                    break\n",
    "                else:\n",
    "                    s = sp\n",
    "                    score += r\n",
    "\n",
    "            traces.append(trace)\n",
    "\n",
    "        scores_deque.append(score)\n",
    "        undisc_G.append(score.squeeze())\n",
    "        writer.add_scalar('score_G', np.mean(score), i_episode)\n",
    "        print('\\rEpisode {}\\tAverage Score: {:.2f}\\tScore: {:.2f}'.format(i_episode, np.mean(scores_deque),\n",
    "                                                                          float(np.mean(score))), end=\"\")\n",
    "\n",
    "        # ----------- Optimize ------------------- #\n",
    "        agent.collect_traces(traces)\n",
    "        agent.optimize_policy()\n",
    "\n",
    "        if i_episode % 50 == 0:\n",
    "            print('') # Feed space\n",
    "\n",
    "        if (np.mean(scores_deque) >= 30.) and (i_episode > 99) and (not env_solved):\n",
    "            print('\\n 100-avg score of 30 reached in {} episodes\\n'.format(i_episode))\n",
    "            env_solved = True\n",
    "\n",
    "        if best_score < float(np.mean(undisc_G[i_episode])):\n",
    "            best_score = np.mean(undisc_G[i_episode])\n",
    "            print('\\t- Mean episodic undiscounted return improved. Saving model - ')\n",
    "            policy_path = save_model(agent, dir='../models/{}/'.format(algo), prefix=prefix)\n",
    "            config.policy_dir = policy_path\n",
    "\n",
    "        if (i_episode + 1) % config.eval_interval == 0:\n",
    "            eval_G=eval_ppo(env, agent).squeeze()\n",
    "            print('\\tEval mean return: {:.2f}'.format(np.mean(eval_G)))\n",
    "            undisc_eval_G.append(eval_G)\n",
    "\n",
    "    return undisc_G, undisc_eval_G"
   ]
  },
  {
   "cell_type": "markdown",
   "metadata": {},
   "source": [
    "##### Parameters"
   ]
  },
  {
   "cell_type": "code",
   "execution_count": 7,
   "metadata": {},
   "outputs": [],
   "source": [
    "n_episodes = 1000\n",
    "rollout = 1000\n",
    "seed = 30"
   ]
  },
  {
   "cell_type": "code",
   "execution_count": 8,
   "metadata": {},
   "outputs": [
    {
     "name": "stderr",
     "output_type": "stream",
     "text": [
      "INFO:unityagents:\n",
      "'Academy' started successfully!\n",
      "Unity Academy name: Academy\n",
      "        Number of Brains: 1\n",
      "        Number of External Brains : 1\n",
      "        Lesson number : 0\n",
      "        Reset Parameters :\n",
      "\t\tgoal_speed -> 1.0\n",
      "\t\tgoal_size -> 5.0\n",
      "Unity brain name: ReacherBrain\n",
      "        Number of Visual Observations (per agent): 0\n",
      "        Vector Observation space type: continuous\n",
      "        Vector Observation space size (per agent): 33\n",
      "        Number of stacked Vector Observation: 1\n",
      "        Vector Action space type: continuous\n",
      "        Vector Action space size (per agent): 4\n",
      "        Vector Action descriptions: , , , \n"
     ]
    },
    {
     "name": "stdout",
     "output_type": "stream",
     "text": [
      "Number of agents: 20\n",
      "Size of each action: 4\n",
      "There are 20 agents. Each observes a state with length: 33\n"
     ]
    }
   ],
   "source": [
    "env, state_size, action_size, n_agents = welcome(seed)"
   ]
  },
  {
   "cell_type": "code",
   "execution_count": 9,
   "metadata": {},
   "outputs": [],
   "source": [
    "config = RunConfig()\n",
    "config.batch_size = 4096\n",
    "config.lr = 3.0e-4\n",
    "config.rollout = rollout\n",
    "config.replay_buffer_size = rollout * n_agents * n_episodes\n",
    "config.discount = 0.99\n",
    "config.eval_interval = 10\n",
    "config.eval_episodes = 1\n",
    "config.grad_clip = 10\n",
    "config.exploratory_log_sigma_start = -0.7\n",
    "config.exploratory_log_sigma_end = -1.6\n",
    "config.learn_repeat = 20\n",
    "config.n_episodes = n_episodes\n",
    "config.device = torch.device(\"cuda:0\" if torch.cuda.is_available() else \"cpu\")"
   ]
  },
  {
   "cell_type": "code",
   "execution_count": 10,
   "metadata": {},
   "outputs": [],
   "source": [
    "algo = 'ppo'\n",
    "env_name = 'reacher'\n",
    "log_dir = '../logs/{}/'.format(algo) + env_name + '/'\n",
    "pickl_name = 'scores.pkl'\n",
    "\n",
    "\n",
    "if not os.path.isdir(log_dir):\n",
    "    os.makedirs(log_dir)"
   ]
  },
  {
   "cell_type": "markdown",
   "metadata": {},
   "source": [
    "### Train the Agent\n",
    "Run the code cell below to train the agent from scratch. "
   ]
  },
  {
   "cell_type": "code",
   "execution_count": 11,
   "metadata": {
    "scrolled": true
   },
   "outputs": [
    {
     "name": "stdout",
     "output_type": "stream",
     "text": [
      "Episode 0\tAverage Score: 0.43\tScore: 0.43\n",
      "\t- Mean episodic undiscounted return improved. Saving model - \n",
      "Episode 1\tAverage Score: 0.45\tScore: 0.46\t- Mean episodic undiscounted return improved. Saving model - \n",
      "Episode 2\tAverage Score: 0.49\tScore: 0.57\t- Mean episodic undiscounted return improved. Saving model - \n",
      "Episode 3\tAverage Score: 0.51\tScore: 0.58\t- Mean episodic undiscounted return improved. Saving model - \n",
      "Episode 4\tAverage Score: 0.58\tScore: 0.88\t- Mean episodic undiscounted return improved. Saving model - \n",
      "Episode 5\tAverage Score: 0.71\tScore: 1.32\t- Mean episodic undiscounted return improved. Saving model - \n",
      "Episode 6\tAverage Score: 0.82\tScore: 1.52\t- Mean episodic undiscounted return improved. Saving model - \n",
      "Episode 7\tAverage Score: 0.94\tScore: 1.72\t- Mean episodic undiscounted return improved. Saving model - \n",
      "Episode 8\tAverage Score: 1.04\tScore: 1.91\t- Mean episodic undiscounted return improved. Saving model - \n",
      "Episode 9\tAverage Score: 1.15\tScore: 2.14\t- Mean episodic undiscounted return improved. Saving model - \n",
      "\tEval mean return: 0.75\n",
      "Episode 10\tAverage Score: 1.26\tScore: 2.29\t- Mean episodic undiscounted return improved. Saving model - \n",
      "Episode 11\tAverage Score: 1.37\tScore: 2.61\t- Mean episodic undiscounted return improved. Saving model - \n",
      "Episode 12\tAverage Score: 1.48\tScore: 2.75\t- Mean episodic undiscounted return improved. Saving model - \n",
      "Episode 13\tAverage Score: 1.62\tScore: 3.51\t- Mean episodic undiscounted return improved. Saving model - \n",
      "Episode 14\tAverage Score: 1.78\tScore: 3.94\t- Mean episodic undiscounted return improved. Saving model - \n",
      "Episode 16\tAverage Score: 2.06\tScore: 4.62\t- Mean episodic undiscounted return improved. Saving model - \n",
      "Episode 17\tAverage Score: 2.24\tScore: 5.25\t- Mean episodic undiscounted return improved. Saving model - \n",
      "Episode 18\tAverage Score: 2.40\tScore: 5.30\t- Mean episodic undiscounted return improved. Saving model - \n",
      "Episode 19\tAverage Score: 2.61\tScore: 6.67\t- Mean episodic undiscounted return improved. Saving model - \n",
      "\tEval mean return: 2.02\n",
      "Episode 21\tAverage Score: 2.99\tScore: 7.87\t- Mean episodic undiscounted return improved. Saving model - \n",
      "Episode 22\tAverage Score: 3.24\tScore: 8.69\t- Mean episodic undiscounted return improved. Saving model - \n",
      "Episode 23\tAverage Score: 3.54\tScore: 10.51\t- Mean episodic undiscounted return improved. Saving model - \n",
      "Episode 24\tAverage Score: 3.83\tScore: 10.85\t- Mean episodic undiscounted return improved. Saving model - \n",
      "Episode 26\tAverage Score: 4.41\tScore: 12.75\t- Mean episodic undiscounted return improved. Saving model - \n",
      "Episode 27\tAverage Score: 4.76\tScore: 14.23\t- Mean episodic undiscounted return improved. Saving model - \n",
      "Episode 28\tAverage Score: 5.13\tScore: 15.61\t- Mean episodic undiscounted return improved. Saving model - \n",
      "Episode 29\tAverage Score: 5.59\tScore: 18.72\t- Mean episodic undiscounted return improved. Saving model - \n",
      "\tEval mean return: 10.34\n",
      "Episode 30\tAverage Score: 6.02\tScore: 19.13\t- Mean episodic undiscounted return improved. Saving model - \n",
      "Episode 31\tAverage Score: 6.54\tScore: 22.58\t- Mean episodic undiscounted return improved. Saving model - \n",
      "Episode 33\tAverage Score: 7.45\tScore: 23.97\t- Mean episodic undiscounted return improved. Saving model - \n",
      "Episode 35\tAverage Score: 8.36\tScore: 24.37\t- Mean episodic undiscounted return improved. Saving model - \n",
      "Episode 36\tAverage Score: 8.80\tScore: 24.58\t- Mean episodic undiscounted return improved. Saving model - \n",
      "Episode 39\tAverage Score: 9.78\tScore: 19.99\tEval mean return: 12.50\n",
      "Episode 40\tAverage Score: 10.17\tScore: 25.59\t- Mean episodic undiscounted return improved. Saving model - \n",
      "Episode 47\tAverage Score: 11.97\tScore: 27.54\t- Mean episodic undiscounted return improved. Saving model - \n",
      "Episode 49\tAverage Score: 12.60\tScore: 29.09\t- Mean episodic undiscounted return improved. Saving model - \n",
      "\tEval mean return: 19.53\n",
      "Episode 50\tAverage Score: 13.05\tScore: 35.31\n",
      "\t- Mean episodic undiscounted return improved. Saving model - \n",
      "Episode 52\tAverage Score: 13.79\tScore: 38.08\t- Mean episodic undiscounted return improved. Saving model - \n",
      "Episode 54\tAverage Score: 14.84\tScore: 47.77\t- Mean episodic undiscounted return improved. Saving model - \n",
      "Episode 58\tAverage Score: 17.04\tScore: 51.20\t- Mean episodic undiscounted return improved. Saving model - \n",
      "Episode 59\tAverage Score: 17.61\tScore: 51.20\tEval mean return: 30.20\n",
      "Episode 60\tAverage Score: 18.17\tScore: 51.68\t- Mean episodic undiscounted return improved. Saving model - \n",
      "Episode 61\tAverage Score: 18.73\tScore: 52.77\t- Mean episodic undiscounted return improved. Saving model - \n",
      "Episode 62\tAverage Score: 19.36\tScore: 58.82\t- Mean episodic undiscounted return improved. Saving model - \n",
      "Episode 66\tAverage Score: 21.68\tScore: 61.62\t- Mean episodic undiscounted return improved. Saving model - \n",
      "Episode 67\tAverage Score: 22.38\tScore: 68.74\t- Mean episodic undiscounted return improved. Saving model - \n",
      "Episode 69\tAverage Score: 23.53\tScore: 67.29\tEval mean return: 38.06\n",
      "Episode 71\tAverage Score: 24.72\tScore: 70.62\t- Mean episodic undiscounted return improved. Saving model - \n",
      "Episode 73\tAverage Score: 25.90\tScore: 70.99\t- Mean episodic undiscounted return improved. Saving model - \n",
      "Episode 79\tAverage Score: 28.46\tScore: 61.35\tEval mean return: 38.06\n",
      "Episode 87\tAverage Score: 32.05\tScore: 71.66\t- Mean episodic undiscounted return improved. Saving model - \n",
      "Episode 89\tAverage Score: 32.89\tScore: 71.35\tEval mean return: 39.02\n",
      "Episode 90\tAverage Score: 33.34\tScore: 73.39\t- Mean episodic undiscounted return improved. Saving model - \n",
      "Episode 92\tAverage Score: 34.19\tScore: 74.62\t- Mean episodic undiscounted return improved. Saving model - \n",
      "Episode 99\tAverage Score: 36.82\tScore: 73.09\tEval mean return: 38.28\n",
      "Episode 100\tAverage Score: 37.52\tScore: 70.40\n",
      "\n",
      " 100-avg score of 30 reached in 100 episodes\n",
      "\n",
      "Episode 102\tAverage Score: 39.00\tScore: 74.80\t- Mean episodic undiscounted return improved. Saving model - \n",
      "Episode 106\tAverage Score: 41.91\tScore: 74.82\t- Mean episodic undiscounted return improved. Saving model - \n",
      "Episode 107\tAverage Score: 42.64\tScore: 75.10\t- Mean episodic undiscounted return improved. Saving model - \n",
      "Episode 109\tAverage Score: 44.09\tScore: 73.70\tEval mean return: 38.81\n",
      "Episode 112\tAverage Score: 46.23\tScore: 75.11\t- Mean episodic undiscounted return improved. Saving model - \n",
      "Episode 113\tAverage Score: 46.95\tScore: 75.61\t- Mean episodic undiscounted return improved. Saving model - \n",
      "Episode 118\tAverage Score: 50.46\tScore: 75.63\t- Mean episodic undiscounted return improved. Saving model - \n",
      "Episode 119\tAverage Score: 51.14\tScore: 74.65\tEval mean return: 38.61\n",
      "Episode 122\tAverage Score: 53.18\tScore: 76.12\t- Mean episodic undiscounted return improved. Saving model - \n",
      "Episode 126\tAverage Score: 55.76\tScore: 76.80\t- Mean episodic undiscounted return improved. Saving model - \n",
      "Episode 129\tAverage Score: 57.56\tScore: 76.23\tEval mean return: 38.88\n",
      "Episode 139\tAverage Score: 62.84\tScore: 74.71\tEval mean return: 38.56\n",
      "Episode 143\tAverage Score: 64.96\tScore: 76.88\t- Mean episodic undiscounted return improved. Saving model - \n",
      "Episode 149\tAverage Score: 68.05\tScore: 75.83\tEval mean return: 37.60\n",
      "Episode 150\tAverage Score: 68.45\tScore: 75.56\n",
      "Episode 159\tAverage Score: 71.38\tScore: 75.75\tEval mean return: 38.77\n",
      "Episode 161\tAverage Score: 71.87\tScore: 76.94\t- Mean episodic undiscounted return improved. Saving model - \n",
      "Episode 169\tAverage Score: 73.10\tScore: 75.49\tEval mean return: 38.67\n",
      "Episode 179\tAverage Score: 74.43\tScore: 75.98\tEval mean return: 38.94\n",
      "Episode 188\tAverage Score: 75.19\tScore: 77.03\t- Mean episodic undiscounted return improved. Saving model - \n",
      "Episode 189\tAverage Score: 75.24\tScore: 76.46\tEval mean return: 38.96\n",
      "Episode 190\tAverage Score: 75.28\tScore: 77.12\t- Mean episodic undiscounted return improved. Saving model - \n",
      "Episode 199\tAverage Score: 75.67\tScore: 75.10\tEval mean return: 39.19\n",
      "Episode 200\tAverage Score: 75.73\tScore: 76.66\n",
      "Episode 209\tAverage Score: 75.87\tScore: 76.88\tEval mean return: 39.28\n",
      "Episode 219\tAverage Score: 75.93\tScore: 73.64\tEval mean return: 39.17\n",
      "Episode 229\tAverage Score: 75.95\tScore: 76.65\tEval mean return: 39.12\n",
      "Episode 239\tAverage Score: 75.97\tScore: 73.35\tEval mean return: 39.23\n"
     ]
    },
    {
     "name": "stdout",
     "output_type": "stream",
     "text": [
      "Episode 241\tAverage Score: 76.00\tScore: 77.26\t- Mean episodic undiscounted return improved. Saving model - \n",
      "Episode 249\tAverage Score: 75.87\tScore: 73.74\tEval mean return: 38.32\n",
      "Episode 250\tAverage Score: 75.87\tScore: 75.76\n",
      "Episode 259\tAverage Score: 75.73\tScore: 75.74\tEval mean return: 38.93\n",
      "Episode 269\tAverage Score: 75.76\tScore: 76.80\tEval mean return: 38.70\n",
      "Episode 279\tAverage Score: 75.75\tScore: 74.32\tEval mean return: 39.00\n",
      "Episode 289\tAverage Score: 75.48\tScore: 75.14\tEval mean return: 39.04\n",
      "Episode 299\tAverage Score: 75.02\tScore: 70.12\tEval mean return: 39.08\n",
      "Episode 300\tAverage Score: 74.99\tScore: 73.33\n",
      "Episode 309\tAverage Score: 74.84\tScore: 76.41\tEval mean return: 38.95\n",
      "Episode 319\tAverage Score: 74.73\tScore: 76.85\tEval mean return: 38.82\n",
      "Episode 329\tAverage Score: 74.68\tScore: 76.57\tEval mean return: 38.74\n",
      "Episode 339\tAverage Score: 74.73\tScore: 76.19\tEval mean return: 39.21\n",
      "Episode 349\tAverage Score: 74.73\tScore: 71.89\tEval mean return: 39.24\n",
      "Episode 350\tAverage Score: 74.72\tScore: 74.88\n",
      "Episode 355\tAverage Score: 74.79\tScore: 77.31\t- Mean episodic undiscounted return improved. Saving model - \n",
      "Episode 359\tAverage Score: 74.82\tScore: 76.48\tEval mean return: 38.86\n",
      "Episode 369\tAverage Score: 74.71\tScore: 71.13\tEval mean return: 39.35\n",
      "Episode 379\tAverage Score: 74.65\tScore: 74.30\tEval mean return: 39.23\n",
      "Episode 389\tAverage Score: 74.83\tScore: 74.87\tEval mean return: 39.22\n",
      "Episode 399\tAverage Score: 75.29\tScore: 77.53\t- Mean episodic undiscounted return improved. Saving model - \n",
      "\tEval mean return: 39.21\n",
      "Episode 400\tAverage Score: 75.30\tScore: 75.05\n",
      "Episode 409\tAverage Score: 75.50\tScore: 77.38\tEval mean return: 39.21\n",
      "Episode 419\tAverage Score: 75.69\tScore: 77.31\tEval mean return: 38.72\n",
      "Episode 429\tAverage Score: 75.85\tScore: 77.03\tEval mean return: 39.18\n",
      "Episode 439\tAverage Score: 75.76\tScore: 74.44\tEval mean return: 39.18\n",
      "Episode 449\tAverage Score: 75.67\tScore: 76.89\tEval mean return: 39.16\n",
      "Episode 450\tAverage Score: 75.69\tScore: 76.73\n",
      "Episode 459\tAverage Score: 75.62\tScore: 75.92\tEval mean return: 39.06\n",
      "Episode 469\tAverage Score: 75.63\tScore: 76.97\tEval mean return: 39.16\n",
      "Episode 479\tAverage Score: 75.53\tScore: 76.69\tEval mean return: 38.70\n",
      "Episode 489\tAverage Score: 75.65\tScore: 77.20\tEval mean return: 39.04\n",
      "Episode 497\tAverage Score: 75.66\tScore: 77.58\t- Mean episodic undiscounted return improved. Saving model - \n",
      "Episode 499\tAverage Score: 75.66\tScore: 77.43\tEval mean return: 38.01\n",
      "Episode 500\tAverage Score: 75.66\tScore: 74.82\n",
      "Episode 509\tAverage Score: 75.71\tScore: 77.05\tEval mean return: 39.12\n",
      "Episode 518\tAverage Score: 75.78\tScore: 77.63\t- Mean episodic undiscounted return improved. Saving model - \n",
      "Episode 519\tAverage Score: 75.77\tScore: 75.75\tEval mean return: 38.06\n",
      "Episode 529\tAverage Score: 75.59\tScore: 74.36\tEval mean return: 37.69\n",
      "Episode 539\tAverage Score: 75.57\tScore: 74.83\tEval mean return: 38.76\n",
      "Episode 549\tAverage Score: 75.74\tScore: 77.03\tEval mean return: 39.09\n",
      "Episode 550\tAverage Score: 75.73\tScore: 76.35\n",
      "Episode 559\tAverage Score: 75.91\tScore: 77.01\tEval mean return: 39.12\n",
      "Episode 569\tAverage Score: 75.93\tScore: 75.55\tEval mean return: 37.19\n",
      "Episode 579\tAverage Score: 76.06\tScore: 76.18\tEval mean return: 39.20\n",
      "Episode 589\tAverage Score: 76.02\tScore: 77.38\tEval mean return: 39.16\n",
      "Episode 599\tAverage Score: 76.02\tScore: 75.01\tEval mean return: 38.64\n",
      "Episode 600\tAverage Score: 76.04\tScore: 76.93\n",
      "Episode 609\tAverage Score: 75.95\tScore: 76.24\tEval mean return: 39.08\n",
      "Episode 619\tAverage Score: 75.89\tScore: 74.87\tEval mean return: 38.82\n",
      "Episode 629\tAverage Score: 76.00\tScore: 75.38\tEval mean return: 39.06\n",
      "Episode 639\tAverage Score: 76.17\tScore: 77.15\tEval mean return: 39.06\n",
      "Episode 649\tAverage Score: 76.13\tScore: 74.69\tEval mean return: 38.81\n",
      "Episode 650\tAverage Score: 76.10\tScore: 72.65\n",
      "Episode 659\tAverage Score: 76.01\tScore: 75.06\tEval mean return: 39.29\n",
      "Episode 669\tAverage Score: 75.91\tScore: 72.89\tEval mean return: 38.40\n",
      "Episode 679\tAverage Score: 75.71\tScore: 76.69\tEval mean return: 39.18\n",
      "Episode 689\tAverage Score: 75.58\tScore: 75.20\tEval mean return: 39.13\n",
      "Episode 699\tAverage Score: 75.25\tScore: 75.34\tEval mean return: 38.91\n",
      "Episode 700\tAverage Score: 75.23\tScore: 75.44\n",
      "Episode 709\tAverage Score: 75.14\tScore: 77.18\tEval mean return: 39.08\n",
      "Episode 719\tAverage Score: 75.07\tScore: 75.11\tEval mean return: 39.10\n",
      "Episode 729\tAverage Score: 74.97\tScore: 74.79\tEval mean return: 39.23\n",
      "Episode 739\tAverage Score: 74.93\tScore: 76.33\tEval mean return: 38.93\n",
      "Episode 749\tAverage Score: 74.92\tScore: 69.86\tEval mean return: 39.31\n",
      "Episode 750\tAverage Score: 74.90\tScore: 70.98\n",
      "Episode 759\tAverage Score: 74.72\tScore: 74.01\tEval mean return: 39.14\n",
      "Episode 769\tAverage Score: 74.77\tScore: 72.44\tEval mean return: 37.23\n",
      "Episode 779\tAverage Score: 74.81\tScore: 73.83\tEval mean return: 38.55\n",
      "Episode 789\tAverage Score: 74.31\tScore: 59.85\tEval mean return: 35.13\n",
      "Episode 799\tAverage Score: 73.86\tScore: 71.24\tEval mean return: 39.21\n",
      "Episode 800\tAverage Score: 73.86\tScore: 75.52\n",
      "Episode 809\tAverage Score: 73.96\tScore: 76.11\tEval mean return: 39.02\n",
      "Episode 819\tAverage Score: 73.90\tScore: 72.36\tEval mean return: 39.27\n",
      "Episode 829\tAverage Score: 73.94\tScore: 75.17\tEval mean return: 39.09\n",
      "Episode 839\tAverage Score: 73.76\tScore: 73.42\tEval mean return: 39.27\n",
      "Episode 849\tAverage Score: 73.80\tScore: 76.24\tEval mean return: 39.11\n",
      "Episode 850\tAverage Score: 73.86\tScore: 76.42\n",
      "Episode 859\tAverage Score: 74.12\tScore: 76.89\tEval mean return: 38.83\n",
      "Episode 869\tAverage Score: 74.18\tScore: 75.95\tEval mean return: 39.03\n",
      "Episode 879\tAverage Score: 74.25\tScore: 75.36\tEval mean return: 36.76\n",
      "Episode 889\tAverage Score: 74.00\tScore: 56.27\tEval mean return: 38.48\n",
      "Episode 899\tAverage Score: 74.57\tScore: 76.70\tEval mean return: 38.09\n",
      "Episode 900\tAverage Score: 74.57\tScore: 75.13\n",
      "Episode 909\tAverage Score: 74.58\tScore: 76.48\tEval mean return: 39.03\n",
      "Episode 919\tAverage Score: 74.69\tScore: 72.82\tEval mean return: 36.35\n",
      "Episode 929\tAverage Score: 74.64\tScore: 77.57\tEval mean return: 39.08\n",
      "Episode 939\tAverage Score: 74.65\tScore: 76.30\tEval mean return: 38.91\n",
      "Episode 949\tAverage Score: 74.65\tScore: 76.79\tEval mean return: 39.04\n",
      "Episode 950\tAverage Score: 74.65\tScore: 75.83\n",
      "Episode 959\tAverage Score: 74.60\tScore: 75.66\tEval mean return: 38.95\n",
      "Episode 969\tAverage Score: 74.52\tScore: 74.80\tEval mean return: 38.61\n",
      "Episode 979\tAverage Score: 73.99\tScore: 66.96\tEval mean return: 35.49\n",
      "Episode 989\tAverage Score: 74.31\tScore: 72.17\tEval mean return: 39.03\n",
      "Episode 999\tAverage Score: 74.32\tScore: 75.27\tEval mean return: 39.05\n"
     ]
    }
   ],
   "source": [
    "writer = SummaryWriter(log_dir, filename_suffix = '_' + str(seed))\n",
    "\n",
    "agent = Agent(state_size=state_size, action_size=action_size,\n",
    "              random_seed = seed, writer=writer, config=config,\n",
    "              n_agents = n_agents)\n",
    "\n",
    "config.train_agent = agent\n",
    "config.eval_agent = agent\n",
    "\n",
    "undisc_G, undisc_eval_G = ppo(env, agent, n_episodes=n_episodes, algo=algo)"
   ]
  },
  {
   "cell_type": "code",
   "execution_count": 12,
   "metadata": {},
   "outputs": [],
   "source": [
    "env.close()"
   ]
  },
  {
   "cell_type": "code",
   "execution_count": 13,
   "metadata": {},
   "outputs": [
    {
     "name": "stderr",
     "output_type": "stream",
     "text": [
      "/home/gerti/miniconda3/envs/rl/lib/python3.6/site-packages/seaborn/timeseries.py:183: UserWarning: The `tsplot` function is deprecated and will be removed in a future release. Please update your code to use the new `lineplot` function.\n",
      "  warnings.warn(msg, UserWarning)\n"
     ]
    },
    {
     "data": {
      "image/png": "[encoded data removed]",
      "text/plain": [
       "<Figure size 432x288 with 1 Axes>"
      ]
     },
     "metadata": {
      "needs_background": "light"
     },
     "output_type": "display_data"
    },
    {
     "name": "stderr",
     "output_type": "stream",
     "text": [
      "/home/gerti/miniconda3/envs/rl/lib/python3.6/site-packages/seaborn/timeseries.py:183: UserWarning: The `tsplot` function is deprecated and will be removed in a future release. Please update your code to use the new `lineplot` function.\n",
      "  warnings.warn(msg, UserWarning)\n"
     ]
    },
    {
     "data": {
      "image/png": "[encoded data removed]",
      "text/plain": [
       "<Figure size 432x288 with 1 Axes>"
      ]
     },
     "metadata": {
      "needs_background": "light"
     },
     "output_type": "display_data"
    }
   ],
   "source": [
    "data = None\n",
    "if os.path.isfile(os.path.join(log_dir, pickl_name)):\n",
    "    with open(os.path.join(log_dir, pickl_name), mode='rb') as pf:\n",
    "        data = pickle.load(pf)\n",
    "        data[seed] = (undisc_G, undisc_eval_G)\n",
    "    with open(os.path.join(log_dir, pickl_name), mode='wb') as pf:\n",
    "        pickle.dump(data, pf)\n",
    "else:\n",
    "    with open(os.path.join(log_dir, pickl_name), mode='wb') as pf:\n",
    "        pickle.dump({seed:(undisc_G, undisc_eval_G)}, pf)\n",
    "\n",
    "if data is not None:\n",
    "    plot_scores(data)"
   ]
  },
  {
   "cell_type": "code",
   "execution_count": null,
   "metadata": {},
   "outputs": [],
   "source": []
  }
 ],
 "metadata": {
  "kernelspec": {
   "display_name": "Python 3",
   "language": "python",
   "name": "python3"
  },
  "language_info": {
   "codemirror_mode": {
    "name": "ipython",
    "version": 3
   },
   "file_extension": ".py",
   "mimetype": "text/x-python",
   "name": "python",
   "nbconvert_exporter": "python",
   "pygments_lexer": "ipython3",
   "version": "3.6.8"
  }
 },
 "nbformat": 4,
 "nbformat_minor": 2
}
