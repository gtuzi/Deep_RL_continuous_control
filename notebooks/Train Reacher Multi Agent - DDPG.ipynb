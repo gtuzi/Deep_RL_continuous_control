{
 "cells": [
  {
   "cell_type": "markdown",
   "metadata": {},
   "source": [
    "# Deep Deterministic Policy Gradients (DDPG)"
   ]
  },
  {
   "cell_type": "code",
   "execution_count": 1,
   "metadata": {},
   "outputs": [],
   "source": [
    "import os\n",
    "import sys\n",
    "module_path = os.path.abspath(os.path.join('..'))\n",
    "if module_path not in sys.path:\n",
    "    sys.path.append(module_path)\n",
    "    \n",
    "import gym\n",
    "import random\n",
    "import torch\n",
    "import pickle\n",
    "import numpy as np\n",
    "from collections import deque\n",
    "import matplotlib.pyplot as plt\n",
    "%matplotlib inline\n",
    "\n",
    "from tensorboardX import SummaryWriter\n",
    "from unityagents import UnityEnvironment\n",
    "from agents.ddpg_agent import Agent\n",
    "from agents.utils.RunConfig import RunConfig\n",
    "from agents.utils.buffers import Experience\n",
    "import seaborn as sns"
   ]
  },
  {
   "cell_type": "code",
   "execution_count": 2,
   "metadata": {},
   "outputs": [],
   "source": [
    "def get_env(seed):\n",
    "    from sys import platform as _platform\n",
    "    if _platform == \"linux\" or _platform == \"linux2\":\n",
    "       # linux\n",
    "        env = UnityEnvironment(file_name=\"../unity_envs/Reacher_Linux/Reacher.x86_64\", seed = seed)\n",
    "    elif _platform == \"darwin\":\n",
    "       # MAC OS X\n",
    "       env = UnityEnvironment(file_name=\"../unity_envs/Reacher.app\", no_graphics=False, seed = seed)\n",
    "    return env\n",
    "\n",
    "def get_train_env_multi(seed):\n",
    "    from sys import platform as _platform\n",
    "    if _platform == \"linux\" or _platform == \"linux2\":\n",
    "       # linux\n",
    "        env = UnityEnvironment(file_name=\"../unity_envs/Reacher_Linux_Multi/Reacher.x86_64\", seed = seed)\n",
    "    elif _platform == \"darwin\":\n",
    "       # MAC OS X\n",
    "       env = UnityEnvironment(file_name=\"../unity_envs/Reacher_Multi.app\", no_graphics=False, seed = seed)\n",
    "    return env\n",
    "\n",
    "def welcome(seed, multi = True):\n",
    "    # env = get_env()\n",
    "    if multi:\n",
    "        env = get_train_env_multi(seed)\n",
    "    else:\n",
    "        env = get_env(seed)\n",
    "\n",
    "    # get the default brain\n",
    "    brain_name = env.brain_names[0]\n",
    "    brain = env.brains[brain_name]\n",
    "\n",
    "    # reset the environment\n",
    "    env_info = env.reset(train_mode=True)[brain_name]\n",
    "\n",
    "    # number of agents\n",
    "    num_agents = len(env_info.agents)\n",
    "\n",
    "    # size of each action\n",
    "    action_size = brain.vector_action_space_size\n",
    "\n",
    "    # examine the state space\n",
    "    states = env_info.vector_observations\n",
    "    state_size = states.shape[1]\n",
    "    print('Number of agents:', num_agents)\n",
    "    print('Size of each action:', action_size)\n",
    "    print('There are {} agents. Each observes a state with length: {}'.format(states.shape[0], state_size))\n",
    "\n",
    "    return env, state_size, action_size, num_agents\n"
   ]
  },
  {
   "cell_type": "code",
   "execution_count": 3,
   "metadata": {},
   "outputs": [],
   "source": [
    "def plot_data(data, title, color = 'b'):\n",
    "    fig = plt.figure()\n",
    "    sns.tsplot(data, color=color)\n",
    "    plt.xlabel('Episode', fontsize = 16)\n",
    "    plt.ylabel('Avg. Episodic Return', fontsize = 20)\n",
    "    plt.title(title, fontsize=30)\n",
    "    plt.show()\n",
    "\n",
    "\n",
    "def plot_scores(data):\n",
    "    train_scores = []\n",
    "    eval_scores = []\n",
    "    for k, v in data.items():\n",
    "        train_score_i = v[0]\n",
    "        eval_scores_i = v[1]\n",
    "        train_score_i = np.mean(np.array(train_score_i), axis=1).tolist()\n",
    "        eval_scores_i = np.mean(np.array(eval_scores_i), axis=1).tolist()\n",
    "        train_scores.append(train_score_i)\n",
    "        eval_scores.append(eval_scores_i)\n",
    "\n",
    "    plot_data(train_scores, 'Train Scores', color='b')\n",
    "    plot_data(train_scores, 'Eval Scores', color='r')"
   ]
  },
  {
   "cell_type": "code",
   "execution_count": 4,
   "metadata": {},
   "outputs": [],
   "source": [
    "def save_model(agent, dir, prefix=''):\n",
    "    import os\n",
    "    if not os.path.exists(dir + prefix):\n",
    "        os.makedirs(dir + prefix)\n",
    "\n",
    "    torch.save(agent.actor_local.state_dict(), dir + prefix + 'actor.pth')\n",
    "    torch.save(agent.critic_local.state_dict(), dir + prefix + 'critic.pth')\n",
    "\n",
    "    return tuple([dir + prefix + net_name for net_name in ['critic.pth', 'actor.pth']])"
   ]
  },
  {
   "cell_type": "code",
   "execution_count": 5,
   "metadata": {},
   "outputs": [],
   "source": [
    "def eval_ddpg(env, config):\n",
    "    agent = config.eval_agent\n",
    "\n",
    "    brain_name = env.brain_names[0]\n",
    "    env_info = env.reset(train_mode=True)[brain_name]  # reset the environment\n",
    "    s = env_info.vector_observations  # get the current state (for each train_agent)\n",
    "    num_agents = len(env_info.agents)\n",
    "    G = np.zeros(num_agents)  # Undiscounted return for each train_agent\n",
    "\n",
    "    t = 0\n",
    "    while True:\n",
    "        a = agent.act(s, add_noise = False)                 # select an action from train_agent\n",
    "        env_info = env.step(a)[brain_name]                  # send all actions to tne environment\n",
    "        sp = env_info.vector_observations                   # get next state (for each train_agent)\n",
    "        r = np.array(env_info.rewards)                      # get reward (for each train_agent)\n",
    "        dones = np.array(env_info.local_done)               # see if episode finished\n",
    "        G += r                                              # update the score (for each train_agent)\n",
    "        if np.any(dones):                                   # exit loop if episode finished\n",
    "            break\n",
    "        else:\n",
    "            s = sp                                          # roll over states to next time step\n",
    "            t += 1\n",
    "    return G\n"
   ]
  },
  {
   "cell_type": "code",
   "execution_count": 6,
   "metadata": {},
   "outputs": [],
   "source": [
    "def ddpg_train(env, config, n_episodes=2000, max_t=int(10000), prefix='', algo = 'ddpg'):\n",
    "    scores_deque = deque(maxlen=100)\n",
    "    undisc_G = []\n",
    "    undisc_eval_G = []\n",
    "    agent = config.train_agent\n",
    "    episode_horizons = deque(maxlen=100)\n",
    "    brain_name = env.brain_names[0]\n",
    "    env_solved = False\n",
    "    best_score = 0.\n",
    "\n",
    "    for i_episode in range( n_episodes):\n",
    "        env_info = env.reset(train_mode=True)[brain_name]\n",
    "        s = env_info.vector_observations\n",
    "        n_agents = s.shape[0]\n",
    "        agent.reset()\n",
    "        score = np.zeros((n_agents, 1), dtype=np.float32)\n",
    "        for t in range(max_t):\n",
    "            a = agent.act(s)\n",
    "            env_info = env.step(a)[brain_name]\n",
    "            sp = env_info.vector_observations\n",
    "            r = np.array(env_info.rewards)[..., None]\n",
    "            done = np.array(env_info.local_done)[..., None]\n",
    "            if t+1 == max_t:\n",
    "                done = np.ones_like(done, dtype = np.bool)\n",
    "\n",
    "            agent.step(Experience(s=s, a=a, r=r, sp=sp, done=done.astype(np.float32)))\n",
    "            s = sp\n",
    "            score += r\n",
    "            if np.all(done):\n",
    "                episode_horizons.append(t)\n",
    "                break\n",
    "\n",
    "        scores_deque.append(score)\n",
    "        undisc_G.append(score)\n",
    "        writer.add_scalar('score_G', np.mean(score), i_episode)\n",
    "        print('\\rEpisode {}\\tAverage Score: {:.2f}\\tScore: {:.2f}'.format(i_episode, np.mean(scores_deque), float(np.mean(score))), end=\"\")\n",
    "\n",
    "        if i_episode % 50 == 0:\n",
    "            print('') # Feed space\n",
    "\n",
    "        if (np.mean(scores_deque) >= 30.) and (i_episode > 99) and (not env_solved):\n",
    "            print('\\n 100-avg score of 30 reached in {} episodes\\n'.format(i_episode))\n",
    "            env_solved = True\n",
    "\n",
    "        if best_score < float(np.mean(undisc_G[i_episode])):\n",
    "            best_score = np.mean(undisc_G[i_episode])\n",
    "            print('\\t- Mean episodic undiscounted return improved.')\n",
    "            policy_path = save_model(agent, dir='../models/{}/'.format(algo), prefix=prefix)\n",
    "            config.policy_dir = policy_path\n",
    "\n",
    "        if (i_episode + 1) % 20 == 0:\n",
    "            eval_G=eval_ddpg(env, config).squeeze()\n",
    "            print('\\tEval mean return: {:.2f}'.format(np.mean(eval_G)))\n",
    "            undisc_eval_G.append(eval_G)\n",
    "\n",
    "    return undisc_G, undisc_eval_G\n"
   ]
  },
  {
   "cell_type": "markdown",
   "metadata": {},
   "source": [
    "#### Parameters"
   ]
  },
  {
   "cell_type": "code",
   "execution_count": 7,
   "metadata": {},
   "outputs": [],
   "source": [
    "n_episodes = 1000\n",
    "rollout = 1000\n",
    "seed = 200"
   ]
  },
  {
   "cell_type": "code",
   "execution_count": 8,
   "metadata": {},
   "outputs": [],
   "source": [
    "config = RunConfig()\n",
    "config.batch_size = 64\n",
    "config.rollout = rollout\n",
    "config.replay_buffer_size = 1e6\n",
    "config.discount = 0.99\n",
    "config.eval_interval = 10\n",
    "config.eval_episodes = 1\n",
    "config.actor_grad_clip = None\n",
    "config.critic_grad_clip = 1.\n",
    "\n",
    "config.learn_repeat = 4\n",
    "config.update_actor_interval = 2\n",
    "config.update_actor_repeat = 1\n",
    "config.update_critic_interval = 1\n",
    "config.update_critic_repeat = 1\n",
    "\n",
    "config.actor_lr = 1e-4\n",
    "config.critic_lr = 1e-4\n",
    "config.tau_pi = 1e-3\n",
    "config.tau_q = 1e-3\n",
    "\n",
    "config.exploration_steps = 1000\n",
    "config.critic_weight_decay = 0 # 1.0e-2\n",
    "\n",
    "config.device = torch.device(\"cuda:0\" if torch.cuda.is_available() else \"cpu\")"
   ]
  },
  {
   "cell_type": "markdown",
   "metadata": {},
   "source": [
    "Instantiate the Environment"
   ]
  },
  {
   "cell_type": "markdown",
   "metadata": {},
   "source": [
    "##### Instantiate Agent"
   ]
  },
  {
   "cell_type": "code",
   "execution_count": 9,
   "metadata": {},
   "outputs": [
    {
     "name": "stderr",
     "output_type": "stream",
     "text": [
      "INFO:unityagents:\n",
      "'Academy' started successfully!\n",
      "Unity Academy name: Academy\n",
      "        Number of Brains: 1\n",
      "        Number of External Brains : 1\n",
      "        Lesson number : 0\n",
      "        Reset Parameters :\n",
      "\t\tgoal_speed -> 1.0\n",
      "\t\tgoal_size -> 5.0\n",
      "Unity brain name: ReacherBrain\n",
      "        Number of Visual Observations (per agent): 0\n",
      "        Vector Observation space type: continuous\n",
      "        Vector Observation space size (per agent): 33\n",
      "        Number of stacked Vector Observation: 1\n",
      "        Vector Action space type: continuous\n",
      "        Vector Action space size (per agent): 4\n",
      "        Vector Action descriptions: , , , \n"
     ]
    },
    {
     "name": "stdout",
     "output_type": "stream",
     "text": [
      "Number of agents: 20\n",
      "Size of each action: 4\n",
      "There are 20 agents. Each observes a state with length: 33\n"
     ]
    }
   ],
   "source": [
    "env_name = 'reacher'\n",
    "prefix = 'reacher/'\n",
    "algo = 'ddpg'\n",
    "log_dir = '../logs/{}/'.format(algo) + env_name + '/'\n",
    "pickl_name = 'scores.pkl'\n",
    "\n",
    "if not os.path.isdir(log_dir):\n",
    "    os.makedirs(log_dir)\n",
    "\n",
    "env, state_size, action_size, n_agents = welcome(seed)"
   ]
  },
  {
   "cell_type": "code",
   "execution_count": 10,
   "metadata": {},
   "outputs": [],
   "source": [
    "writer = SummaryWriter(log_dir='../logs/{}/'.format(algo) + prefix)\n",
    "\n",
    "agent = Agent(state_size=state_size,\n",
    "                action_size=action_size,\n",
    "                random_seed =seed,\n",
    "                n_agents=n_agents,\n",
    "                writer=writer,\n",
    "                config=config)\n",
    "\n",
    "config.train_agent = agent\n",
    "config.eval_agent = agent"
   ]
  },
  {
   "cell_type": "code",
   "execution_count": 11,
   "metadata": {
    "scrolled": true
   },
   "outputs": [
    {
     "name": "stdout",
     "output_type": "stream",
     "text": [
      "Episode 0\tAverage Score: 0.30\tScore: 0.30\n",
      "\t- Mean episodic undiscounted return improved.\n",
      "Episode 1\tAverage Score: 0.32\tScore: 0.33\t- Mean episodic undiscounted return improved.\n",
      "Episode 2\tAverage Score: 0.67\tScore: 1.37\t- Mean episodic undiscounted return improved.\n",
      "Episode 3\tAverage Score: 0.88\tScore: 1.54\t- Mean episodic undiscounted return improved.\n",
      "Episode 4\tAverage Score: 1.05\tScore: 1.72\t- Mean episodic undiscounted return improved.\n",
      "Episode 5\tAverage Score: 1.31\tScore: 2.59\t- Mean episodic undiscounted return improved.\n",
      "Episode 6\tAverage Score: 1.64\tScore: 3.64\t- Mean episodic undiscounted return improved.\n",
      "Episode 7\tAverage Score: 2.16\tScore: 5.80\t- Mean episodic undiscounted return improved.\n",
      "Episode 8\tAverage Score: 2.76\tScore: 7.53\t- Mean episodic undiscounted return improved.\n",
      "Episode 9\tAverage Score: 3.43\tScore: 9.47\t- Mean episodic undiscounted return improved.\n",
      "Episode 10\tAverage Score: 4.31\tScore: 13.11\t- Mean episodic undiscounted return improved.\n",
      "Episode 11\tAverage Score: 5.48\tScore: 18.32\t- Mean episodic undiscounted return improved.\n",
      "Episode 12\tAverage Score: 6.68\tScore: 21.08\t- Mean episodic undiscounted return improved.\n",
      "Episode 13\tAverage Score: 7.89\tScore: 23.61\t- Mean episodic undiscounted return improved.\n",
      "Episode 14\tAverage Score: 9.24\tScore: 28.14\t- Mean episodic undiscounted return improved.\n",
      "Episode 15\tAverage Score: 10.51\tScore: 29.57\t- Mean episodic undiscounted return improved.\n",
      "Episode 16\tAverage Score: 11.67\tScore: 30.19\t- Mean episodic undiscounted return improved.\n",
      "Episode 17\tAverage Score: 12.74\tScore: 31.02\t- Mean episodic undiscounted return improved.\n",
      "Episode 18\tAverage Score: 13.83\tScore: 33.40\t- Mean episodic undiscounted return improved.\n",
      "Episode 19\tAverage Score: 14.80\tScore: 33.29\tEval mean return: 37.61\n",
      "Episode 20\tAverage Score: 15.75\tScore: 34.84\t- Mean episodic undiscounted return improved.\n",
      "Episode 21\tAverage Score: 16.69\tScore: 36.25\t- Mean episodic undiscounted return improved.\n",
      "Episode 23\tAverage Score: 18.34\tScore: 37.64\t- Mean episodic undiscounted return improved.\n",
      "Episode 34\tAverage Score: 23.99\tScore: 38.15\t- Mean episodic undiscounted return improved.\n",
      "Episode 39\tAverage Score: 25.42\tScore: 36.28\tEval mean return: 30.93\n",
      "Episode 50\tAverage Score: 27.76\tScore: 35.12\n",
      "Episode 59\tAverage Score: 29.08\tScore: 34.77\tEval mean return: 39.05\n",
      "Episode 79\tAverage Score: 30.39\tScore: 33.23\tEval mean return: 36.82\n",
      "Episode 99\tAverage Score: 31.36\tScore: 36.43\tEval mean return: 37.87\n",
      "Episode 100\tAverage Score: 31.73\tScore: 36.66\n",
      "\n",
      " 100-avg score of 30 reached in 100 episodes\n",
      "\n",
      "Episode 119\tAverage Score: 35.50\tScore: 36.32\tEval mean return: 37.89\n",
      "Episode 139\tAverage Score: 35.57\tScore: 36.61\tEval mean return: 39.17\n",
      "Episode 150\tAverage Score: 35.52\tScore: 33.42\n",
      "Episode 159\tAverage Score: 35.46\tScore: 35.99\tEval mean return: 37.59\n",
      "Episode 179\tAverage Score: 35.77\tScore: 36.87\tEval mean return: 39.11\n",
      "Episode 199\tAverage Score: 35.88\tScore: 35.42\tEval mean return: 37.04\n",
      "Episode 200\tAverage Score: 35.79\tScore: 28.05\n",
      "Episode 219\tAverage Score: 35.97\tScore: 37.43\tEval mean return: 36.82\n",
      "Episode 239\tAverage Score: 35.57\tScore: 35.57\tEval mean return: 38.51\n",
      "Episode 250\tAverage Score: 35.41\tScore: 36.85\n",
      "Episode 259\tAverage Score: 35.44\tScore: 36.41\tEval mean return: 37.65\n",
      "Episode 279\tAverage Score: 35.20\tScore: 35.41\tEval mean return: 34.32\n",
      "Episode 299\tAverage Score: 34.66\tScore: 35.08\tEval mean return: 33.50\n",
      "Episode 300\tAverage Score: 34.73\tScore: 35.11\n",
      "Episode 319\tAverage Score: 33.98\tScore: 32.96\tEval mean return: 37.65\n",
      "Episode 339\tAverage Score: 34.14\tScore: 32.94\tEval mean return: 35.76\n",
      "Episode 350\tAverage Score: 34.06\tScore: 31.57\n",
      "Episode 359\tAverage Score: 33.83\tScore: 33.42\tEval mean return: 34.50\n",
      "Episode 379\tAverage Score: 33.61\tScore: 31.67\tEval mean return: 32.38\n",
      "Episode 399\tAverage Score: 33.57\tScore: 33.21\tEval mean return: 31.67\n",
      "Episode 400\tAverage Score: 33.56\tScore: 33.87\n",
      "Episode 419\tAverage Score: 33.57\tScore: 31.59\tEval mean return: 37.37\n",
      "Episode 439\tAverage Score: 33.08\tScore: 35.19\tEval mean return: 35.95\n",
      "Episode 450\tAverage Score: 33.08\tScore: 32.88\n",
      "Episode 459\tAverage Score: 33.06\tScore: 31.71\tEval mean return: 36.89\n",
      "Episode 479\tAverage Score: 33.04\tScore: 34.82\tEval mean return: 36.17\n",
      "Episode 499\tAverage Score: 32.97\tScore: 32.37\tEval mean return: 35.39\n",
      "Episode 500\tAverage Score: 32.95\tScore: 32.29\n",
      "Episode 519\tAverage Score: 33.21\tScore: 32.35\tEval mean return: 38.69\n",
      "Episode 539\tAverage Score: 33.13\tScore: 34.70\tEval mean return: 37.46\n",
      "Episode 550\tAverage Score: 33.10\tScore: 33.75\n",
      "Episode 559\tAverage Score: 33.17\tScore: 35.44\tEval mean return: 38.58\n",
      "Episode 579\tAverage Score: 33.11\tScore: 32.76\tEval mean return: 36.31\n",
      "Episode 599\tAverage Score: 33.14\tScore: 32.78\tEval mean return: 35.28\n",
      "Episode 600\tAverage Score: 33.15\tScore: 32.75\n",
      "Episode 619\tAverage Score: 32.97\tScore: 32.05\tEval mean return: 33.60\n",
      "Episode 639\tAverage Score: 33.25\tScore: 35.39\tEval mean return: 38.57\n",
      "Episode 650\tAverage Score: 33.25\tScore: 35.26\n",
      "Episode 659\tAverage Score: 33.12\tScore: 34.05\tEval mean return: 38.82\n",
      "Episode 679\tAverage Score: 33.02\tScore: 32.00\tEval mean return: 37.31\n",
      "Episode 699\tAverage Score: 33.06\tScore: 34.48\tEval mean return: 36.28\n",
      "Episode 700\tAverage Score: 33.07\tScore: 34.02\n",
      "Episode 719\tAverage Score: 33.21\tScore: 34.88\tEval mean return: 36.87\n",
      "Episode 739\tAverage Score: 33.25\tScore: 33.16\tEval mean return: 37.55\n",
      "Episode 750\tAverage Score: 33.19\tScore: 35.07\n",
      "Episode 759\tAverage Score: 33.01\tScore: 30.30\tEval mean return: 37.00\n",
      "Episode 779\tAverage Score: 32.90\tScore: 31.67\tEval mean return: 34.23\n",
      "Episode 799\tAverage Score: 32.90\tScore: 33.93\tEval mean return: 34.38\n",
      "Episode 800\tAverage Score: 32.86\tScore: 30.12\n",
      "Episode 819\tAverage Score: 32.67\tScore: 33.81\tEval mean return: 36.18\n",
      "Episode 839\tAverage Score: 32.61\tScore: 35.23\tEval mean return: 36.86\n",
      "Episode 850\tAverage Score: 32.57\tScore: 28.40\n",
      "Episode 859\tAverage Score: 32.71\tScore: 34.36\tEval mean return: 32.97\n",
      "Episode 879\tAverage Score: 33.04\tScore: 34.14\tEval mean return: 38.22\n",
      "Episode 899\tAverage Score: 33.12\tScore: 34.56\tEval mean return: 35.53\n",
      "Episode 900\tAverage Score: 33.14\tScore: 32.90\n",
      "Episode 919\tAverage Score: 33.25\tScore: 32.76\tEval mean return: 34.12\n",
      "Episode 939\tAverage Score: 33.05\tScore: 34.14\tEval mean return: 37.36\n",
      "Episode 950\tAverage Score: 33.21\tScore: 34.44\n",
      "Episode 959\tAverage Score: 33.21\tScore: 34.81\tEval mean return: 37.77\n",
      "Episode 979\tAverage Score: 33.03\tScore: 31.61\tEval mean return: 33.81\n",
      "Episode 999\tAverage Score: 32.68\tScore: 31.83\tEval mean return: 36.87\n"
     ]
    }
   ],
   "source": [
    "undisc_G, undisc_eval_G = ddpg_train(env, config, n_episodes=n_episodes, \n",
    "                                       max_t=rollout, prefix=prefix, algo=algo)"
   ]
  },
  {
   "cell_type": "code",
   "execution_count": null,
   "metadata": {},
   "outputs": [],
   "source": []
  },
  {
   "cell_type": "code",
   "execution_count": 12,
   "metadata": {},
   "outputs": [
    {
     "name": "stderr",
     "output_type": "stream",
     "text": [
      "/home/gerti/miniconda3/envs/rl/lib/python3.6/site-packages/seaborn/timeseries.py:183: UserWarning: The `tsplot` function is deprecated and will be removed in a future release. Please update your code to use the new `lineplot` function.\n",
      "  warnings.warn(msg, UserWarning)\n"
     ]
    },
    {
     "data": {
      "image/png": "[encoded data removed]",
      "text/plain": [
       "<Figure size 432x288 with 1 Axes>"
      ]
     },
     "metadata": {
      "needs_background": "light"
     },
     "output_type": "display_data"
    },
    {
     "name": "stderr",
     "output_type": "stream",
     "text": [
      "/home/gerti/miniconda3/envs/rl/lib/python3.6/site-packages/seaborn/timeseries.py:183: UserWarning: The `tsplot` function is deprecated and will be removed in a future release. Please update your code to use the new `lineplot` function.\n",
      "  warnings.warn(msg, UserWarning)\n"
     ]
    },
    {
     "data": {
      "image/png": "[encoded data removed]",
      "text/plain": [
       "<Figure size 432x288 with 1 Axes>"
      ]
     },
     "metadata": {
      "needs_background": "light"
     },
     "output_type": "display_data"
    }
   ],
   "source": [
    "data = None\n",
    "if os.path.isfile(os.path.join(log_dir, pickl_name)):\n",
    "    with open(os.path.join(log_dir, pickl_name), mode='rb') as pf:\n",
    "        data = pickle.load(pf)\n",
    "        data[seed] = (undisc_G, undisc_eval_G)\n",
    "    with open(os.path.join(log_dir, pickl_name), mode='wb') as pf:\n",
    "        pickle.dump(data, pf)\n",
    "else:\n",
    "    with open(os.path.join(log_dir, pickl_name), mode='wb') as pf:\n",
    "        pickle.dump({seed:(undisc_G, undisc_eval_G)}, pf)\n",
    "\n",
    "if data is not None:\n",
    "    plot_scores(data)\n"
   ]
  }
 ],
 "metadata": {
  "kernelspec": {
   "display_name": "Python 3",
   "language": "python",
   "name": "python3"
  },
  "language_info": {
   "codemirror_mode": {
    "name": "ipython",
    "version": 3
   },
   "file_extension": ".py",
   "mimetype": "text/x-python",
   "name": "python",
   "nbconvert_exporter": "python",
   "pygments_lexer": "ipython3",
   "version": "3.5.5"
  }
 },
 "nbformat": 4,
 "nbformat_minor": 2
}
