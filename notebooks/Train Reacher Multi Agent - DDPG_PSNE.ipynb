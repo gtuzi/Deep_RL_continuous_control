{
 "cells": [
  {
   "cell_type": "markdown",
   "metadata": {},
   "source": [
    "# Deep deterministic policy gradients (DDPG) using parameter space noise exploration (PSNE)"
   ]
  },
  {
   "cell_type": "code",
   "execution_count": 1,
   "metadata": {},
   "outputs": [],
   "source": [
    "import os\n",
    "import sys\n",
    "module_path = os.path.abspath(os.path.join('..'))\n",
    "if module_path not in sys.path:\n",
    "    sys.path.append(module_path)\n",
    "    \n",
    "import gym\n",
    "import random\n",
    "import torch\n",
    "import numpy as np\n",
    "from collections import deque\n",
    "import pickle\n",
    "import matplotlib.pyplot as plt\n",
    "%matplotlib inline\n",
    "\n",
    "from tensorboardX import SummaryWriter\n",
    "from unityagents import UnityEnvironment\n",
    "from agents.ddpg_agent import Agent\n",
    "from agents.utils.RunConfig import RunConfig\n",
    "from agents.utils.buffers import Experience\n",
    "import seaborn as sns"
   ]
  },
  {
   "cell_type": "code",
   "execution_count": 2,
   "metadata": {},
   "outputs": [],
   "source": [
    "def get_env(seed):\n",
    "    from sys import platform as _platform\n",
    "    if _platform == \"linux\" or _platform == \"linux2\":\n",
    "       # linux\n",
    "        env = UnityEnvironment(file_name=\"../unity_envs/Reacher_Linux/Reacher.x86_64\", seed = seed)\n",
    "    elif _platform == \"darwin\":\n",
    "       # MAC OS X\n",
    "       env = UnityEnvironment(file_name=\"../unity_envs/Reacher.app\", no_graphics=False, seed = seed)\n",
    "    return env\n",
    "\n",
    "def get_train_env_multi(seed):\n",
    "    from sys import platform as _platform\n",
    "    if _platform == \"linux\" or _platform == \"linux2\":\n",
    "       # linux\n",
    "        env = UnityEnvironment(file_name=\"../unity_envs/Reacher_Linux_Multi/Reacher.x86_64\", seed = seed)\n",
    "    elif _platform == \"darwin\":\n",
    "       # MAC OS X\n",
    "       env = UnityEnvironment(file_name=\"../unity_envs/Reacher_Multi.app\", no_graphics=False, seed = seed)\n",
    "    return env\n",
    "\n",
    "def welcome(seed, multi = True):\n",
    "    # env = get_env()\n",
    "    if multi:\n",
    "        env = get_train_env_multi(seed)\n",
    "    else:\n",
    "        env = get_env(seed)\n",
    "\n",
    "    # get the default brain\n",
    "    brain_name = env.brain_names[0]\n",
    "    brain = env.brains[brain_name]\n",
    "\n",
    "    # reset the environment\n",
    "    env_info = env.reset(train_mode=True)[brain_name]\n",
    "\n",
    "    # number of agents\n",
    "    num_agents = len(env_info.agents)\n",
    "\n",
    "    # size of each action\n",
    "    action_size = brain.vector_action_space_size\n",
    "\n",
    "    # examine the state space\n",
    "    states = env_info.vector_observations\n",
    "    state_size = states.shape[1]\n",
    "    print('Number of agents:', num_agents)\n",
    "    print('Size of each action:', action_size)\n",
    "    print('There are {} agents. Each observes a state with length: {}'.format(states.shape[0], state_size))\n",
    "\n",
    "    return env, state_size, action_size, num_agents\n"
   ]
  },
  {
   "cell_type": "code",
   "execution_count": 3,
   "metadata": {},
   "outputs": [],
   "source": [
    "def plot_data(data, title, color = 'b'):\n",
    "    fig = plt.figure()\n",
    "    sns.tsplot(data, color=color)\n",
    "    plt.xlabel('Episode', fontsize = 16)\n",
    "    plt.ylabel('Avg. Episodic Return', fontsize = 20)\n",
    "    plt.title(title, fontsize=30)\n",
    "    plt.show()\n",
    "\n",
    "\n",
    "def plot_scores(data):\n",
    "    train_scores = []\n",
    "    eval_scores = []\n",
    "    for k, v in data.items():\n",
    "        train_score_i = v[0]\n",
    "        eval_scores_i = v[1]\n",
    "        train_score_i = np.mean(np.array(train_score_i), axis=1).tolist()\n",
    "        eval_scores_i = np.mean(np.array(eval_scores_i), axis=1).tolist()\n",
    "        train_scores.append(train_score_i)\n",
    "        eval_scores.append(eval_scores_i)\n",
    "\n",
    "    plot_data(train_scores, 'Train Scores', color='b')\n",
    "    plot_data(train_scores, 'Eval Scores', color='r')"
   ]
  },
  {
   "cell_type": "code",
   "execution_count": 4,
   "metadata": {},
   "outputs": [],
   "source": [
    "def save_model(agent, dir, prefix=''):\n",
    "    import os\n",
    "    if not os.path.exists(dir + prefix):\n",
    "        os.makedirs(dir + prefix)\n",
    "\n",
    "    torch.save(agent.actor_local.state_dict(), dir + prefix + 'actor.pth')\n",
    "    torch.save(agent.critic_local.state_dict(), dir + prefix + 'critic.pth')\n",
    "\n",
    "    return tuple([dir + prefix + net_name for net_name in ['critic.pth', 'actor.pth']])"
   ]
  },
  {
   "cell_type": "code",
   "execution_count": 5,
   "metadata": {},
   "outputs": [],
   "source": [
    "def eval_ddpg(env, config):\n",
    "    agent = config.eval_agent\n",
    "\n",
    "    brain_name = env.brain_names[0]\n",
    "    env_info = env.reset(train_mode=True)[brain_name]  # reset the environment\n",
    "    s = env_info.vector_observations  # get the current state (for each train_agent)\n",
    "    num_agents = len(env_info.agents)\n",
    "    G = np.zeros(num_agents)  # Undiscounted return for each train_agent\n",
    "\n",
    "    t = 0\n",
    "    while True:\n",
    "        a = agent.act(s, add_noise = False)                 # select an action from train_agent\n",
    "        env_info = env.step(a)[brain_name]                  # send all actions to tne environment\n",
    "        sp = env_info.vector_observations                   # get next state (for each train_agent)\n",
    "        r = np.array(env_info.rewards)                      # get reward (for each train_agent)\n",
    "        dones = np.array(env_info.local_done)               # see if episode finished\n",
    "        G += r                                              # update the score (for each train_agent)\n",
    "        if np.any(dones):                                   # exit loop if episode finished\n",
    "            break\n",
    "        else:\n",
    "            s = sp                                          # roll over states to next time step\n",
    "            t += 1\n",
    "    return G\n"
   ]
  },
  {
   "cell_type": "code",
   "execution_count": 6,
   "metadata": {},
   "outputs": [],
   "source": [
    "def ddpg_psne_train(env, config, n_episodes=2000, max_t=int(10000), prefix='', algo ='ddpg_psne'):\n",
    "    scores_deque = deque(maxlen=100)\n",
    "    undisc_G = []\n",
    "    undisc_eval_G = []\n",
    "    agent = config.train_agent\n",
    "    episode_horizons = deque(maxlen=100)\n",
    "    brain_name = env.brain_names[0]\n",
    "    env_solved = False\n",
    "    best_score = 0.\n",
    "\n",
    "    for i_episode in range( n_episodes):\n",
    "        env_info = env.reset(train_mode=True)[brain_name]\n",
    "        s = env_info.vector_observations\n",
    "        n_agents = s.shape[0]\n",
    "        agent.reset()\n",
    "        score = np.zeros((n_agents, 1), dtype=np.float32)\n",
    "        for t in range(max_t):\n",
    "            a = agent.act(s)\n",
    "            env_info = env.step(a)[brain_name]\n",
    "            sp = env_info.vector_observations\n",
    "            r = np.array(env_info.rewards)[..., None]\n",
    "            done = np.array(env_info.local_done)[..., None]\n",
    "            if t+1 == max_t:\n",
    "                done = np.ones_like(done, dtype = np.bool)\n",
    "            agent.step(Experience(s=s, a=a, r=r, sp=sp, done=done.astype(np.float32)))\n",
    "            s = sp\n",
    "            score += r\n",
    "            if np.all(done):\n",
    "                episode_horizons.append(t)\n",
    "                break\n",
    "\n",
    "        scores_deque.append(score)\n",
    "        undisc_G.append(score)\n",
    "        writer.add_scalar('score_G', np.mean(score), i_episode)\n",
    "        print('\\rEpisode {}\\tAverage Score: {:.2f}\\tScore: {:.2f}'.format(i_episode, np.mean(scores_deque), float(np.mean(score))), end=\"\")\n",
    "\n",
    "        if i_episode % 50 == 0:\n",
    "            print('') # Feed space\n",
    "\n",
    "        if (np.mean(scores_deque) >= 30.) and (i_episode > 99) and (not env_solved):\n",
    "            print('\\n 100-avg score of 30 reached in {} episodes\\n'.format(i_episode))\n",
    "            env_solved = True\n",
    "\n",
    "        if best_score < float(np.mean(undisc_G[i_episode])):\n",
    "            best_score = np.mean(undisc_G[i_episode])\n",
    "            print('\\t- Mean episodic undiscounted return improved.')\n",
    "            policy_path = save_model(agent, dir='../models/{}/'.format(algo), prefix=prefix)\n",
    "            config.policy_dir = policy_path\n",
    "\n",
    "        if (i_episode + 1) % 20 == 0:\n",
    "            eval_G=eval_ddpg(env, config).squeeze()\n",
    "            print('\\tEval mean return: {:.2f}'.format(np.mean(eval_G)))\n",
    "            undisc_eval_G.append(eval_G)\n",
    "\n",
    "    return undisc_G, undisc_eval_G\n"
   ]
  },
  {
   "cell_type": "markdown",
   "metadata": {},
   "source": [
    "#### Parameters"
   ]
  },
  {
   "cell_type": "code",
   "execution_count": 7,
   "metadata": {},
   "outputs": [],
   "source": [
    "n_episodes = 1000\n",
    "rollout = 1000\n",
    "seed = 30"
   ]
  },
  {
   "cell_type": "code",
   "execution_count": 8,
   "metadata": {},
   "outputs": [],
   "source": [
    "config = RunConfig()\n",
    "config.batch_size = 64\n",
    "config.rollout = rollout\n",
    "config.replay_buffer_size = 1e6\n",
    "config.discount = 0.99\n",
    "config.eval_interval = 10\n",
    "config.eval_episodes = 1\n",
    "config.actor_grad_clip = None\n",
    "config.critic_grad_clip = 1.\n",
    "\n",
    "config.exploratory_log_sigma_start = 0.2\n",
    "config.exploratory_log_sigma_end = 0.2\n",
    "\n",
    "config.psne_start_delta = 0.2\n",
    "config.psne_end_delta = 0.2\n",
    "config.psne_decay_steps = 1e5\n",
    "config.psne_alpha = 1.01\n",
    "config.psne_sigma = 0.1\n",
    "\n",
    "config.learn_repeat = 4\n",
    "config.update_actor_interval = 2\n",
    "config.update_actor_repeat = 1\n",
    "config.update_critic_interval = 1\n",
    "config.update_critic_repeat = 1\n",
    "\n",
    "config.actor_lr = 1e-4\n",
    "config.critic_lr = 1e-4\n",
    "config.tau_pi = 1e-3\n",
    "config.tau_q = 1e-3\n",
    "\n",
    "config.exploration_steps = 0\n",
    "config.critic_weight_decay = 0\n",
    "config.device = torch.device(\"cuda:0\" if torch.cuda.is_available() else \"cpu\")"
   ]
  },
  {
   "cell_type": "markdown",
   "metadata": {},
   "source": [
    "Instantiate the Environment"
   ]
  },
  {
   "cell_type": "code",
   "execution_count": 9,
   "metadata": {},
   "outputs": [
    {
     "name": "stderr",
     "output_type": "stream",
     "text": [
      "INFO:unityagents:\n",
      "'Academy' started successfully!\n",
      "Unity Academy name: Academy\n",
      "        Number of Brains: 1\n",
      "        Number of External Brains : 1\n",
      "        Lesson number : 0\n",
      "        Reset Parameters :\n",
      "\t\tgoal_speed -> 1.0\n",
      "\t\tgoal_size -> 5.0\n",
      "Unity brain name: ReacherBrain\n",
      "        Number of Visual Observations (per agent): 0\n",
      "        Vector Observation space type: continuous\n",
      "        Vector Observation space size (per agent): 33\n",
      "        Number of stacked Vector Observation: 1\n",
      "        Vector Action space type: continuous\n",
      "        Vector Action space size (per agent): 4\n",
      "        Vector Action descriptions: , , , \n"
     ]
    },
    {
     "name": "stdout",
     "output_type": "stream",
     "text": [
      "Number of agents: 20\n",
      "Size of each action: 4\n",
      "There are 20 agents. Each observes a state with length: 33\n"
     ]
    }
   ],
   "source": [
    "env, state_size, action_size, n_agents = welcome(seed)"
   ]
  },
  {
   "cell_type": "markdown",
   "metadata": {},
   "source": [
    "##### Instantiate Agent"
   ]
  },
  {
   "cell_type": "code",
   "execution_count": 10,
   "metadata": {},
   "outputs": [],
   "source": [
    "prefix = 'reacher/'\n",
    "env_name = 'reacher'\n",
    "algo = 'ddpg_psne'\n",
    "pickl_name = 'scores.pkl'\n",
    "log_dir = '../logs/{}/'.format(algo) + env_name + '/'\n",
    "writer = SummaryWriter(log_dir='../logs/{}/'.format(algo) + prefix)\n",
    "\n",
    "agent = Agent(state_size=state_size,\n",
    "                    action_size=action_size,\n",
    "                    random_seed =seed,\n",
    "                    n_agents=n_agents,\n",
    "                    writer=writer,\n",
    "                    config=config)"
   ]
  },
  {
   "cell_type": "code",
   "execution_count": 11,
   "metadata": {},
   "outputs": [],
   "source": [
    "config.train_agent = agent\n",
    "config.eval_agent = agent"
   ]
  },
  {
   "cell_type": "code",
   "execution_count": 12,
   "metadata": {
    "scrolled": true
   },
   "outputs": [
    {
     "name": "stdout",
     "output_type": "stream",
     "text": [
      "Episode 0\tAverage Score: 0.38\tScore: 0.38\n",
      "\t- Mean episodic undiscounted return improved.\n",
      "Episode 1\tAverage Score: 0.54\tScore: 0.69\t- Mean episodic undiscounted return improved.\n",
      "Episode 2\tAverage Score: 0.63\tScore: 0.81\t- Mean episodic undiscounted return improved.\n",
      "Episode 3\tAverage Score: 0.69\tScore: 0.88\t- Mean episodic undiscounted return improved.\n",
      "Episode 4\tAverage Score: 0.84\tScore: 1.45\t- Mean episodic undiscounted return improved.\n",
      "Episode 5\tAverage Score: 1.06\tScore: 2.15\t- Mean episodic undiscounted return improved.\n",
      "Episode 6\tAverage Score: 1.40\tScore: 3.43\t- Mean episodic undiscounted return improved.\n",
      "Episode 7\tAverage Score: 1.66\tScore: 3.49\t- Mean episodic undiscounted return improved.\n",
      "Episode 8\tAverage Score: 1.97\tScore: 4.44\t- Mean episodic undiscounted return improved.\n",
      "Episode 9\tAverage Score: 2.32\tScore: 5.44\t- Mean episodic undiscounted return improved.\n",
      "Episode 10\tAverage Score: 2.63\tScore: 5.74\t- Mean episodic undiscounted return improved.\n",
      "Episode 11\tAverage Score: 3.04\tScore: 7.58\t- Mean episodic undiscounted return improved.\n",
      "Episode 12\tAverage Score: 3.51\tScore: 9.10\t- Mean episodic undiscounted return improved.\n",
      "Episode 13\tAverage Score: 3.99\tScore: 10.22\t- Mean episodic undiscounted return improved.\n",
      "Episode 14\tAverage Score: 4.53\tScore: 12.14\t- Mean episodic undiscounted return improved.\n",
      "Episode 15\tAverage Score: 5.30\tScore: 16.92\t- Mean episodic undiscounted return improved.\n",
      "Episode 16\tAverage Score: 6.16\tScore: 19.82\t- Mean episodic undiscounted return improved.\n",
      "Episode 18\tAverage Score: 7.71\tScore: 23.56\t- Mean episodic undiscounted return improved.\n",
      "Episode 19\tAverage Score: 8.61\tScore: 25.68\t- Mean episodic undiscounted return improved.\n",
      "\tEval mean return: 28.50\n",
      "Episode 20\tAverage Score: 9.64\tScore: 30.33\t- Mean episodic undiscounted return improved.\n",
      "Episode 21\tAverage Score: 10.71\tScore: 33.13\t- Mean episodic undiscounted return improved.\n",
      "Episode 23\tAverage Score: 12.57\tScore: 34.49\t- Mean episodic undiscounted return improved.\n",
      "Episode 24\tAverage Score: 13.48\tScore: 35.33\t- Mean episodic undiscounted return improved.\n",
      "Episode 30\tAverage Score: 17.51\tScore: 35.84\t- Mean episodic undiscounted return improved.\n",
      "Episode 39\tAverage Score: 21.28\tScore: 36.52\t- Mean episodic undiscounted return improved.\n",
      "\tEval mean return: 38.96\n",
      "Episode 41\tAverage Score: 21.96\tScore: 36.75\t- Mean episodic undiscounted return improved.\n",
      "Episode 50\tAverage Score: 24.22\tScore: 34.88\n",
      "Episode 59\tAverage Score: 25.88\tScore: 34.64\tEval mean return: 38.88\n",
      "Episode 66\tAverage Score: 26.97\tScore: 37.39\t- Mean episodic undiscounted return improved.\n",
      "Episode 79\tAverage Score: 28.25\tScore: 34.34\tEval mean return: 31.22\n",
      "Episode 83\tAverage Score: 28.58\tScore: 37.68\t- Mean episodic undiscounted return improved.\n",
      "Episode 88\tAverage Score: 28.99\tScore: 37.89\t- Mean episodic undiscounted return improved.\n",
      "Episode 99\tAverage Score: 29.74\tScore: 35.16\tEval mean return: 38.79\n",
      "Episode 100\tAverage Score: 30.08\tScore: 34.12\n",
      "\n",
      " 100-avg score of 30 reached in 100 episodes\n",
      "\n",
      "Episode 106\tAverage Score: 32.17\tScore: 38.15\t- Mean episodic undiscounted return improved.\n",
      "Episode 119\tAverage Score: 35.11\tScore: 36.96\tEval mean return: 37.28\n",
      "Episode 139\tAverage Score: 35.61\tScore: 34.81\tEval mean return: 35.32\n",
      "Episode 150\tAverage Score: 35.71\tScore: 36.75\n",
      "Episode 158\tAverage Score: 35.81\tScore: 38.84\t- Mean episodic undiscounted return improved.\n",
      "Episode 159\tAverage Score: 35.84\tScore: 37.76\tEval mean return: 39.00\n",
      "Episode 179\tAverage Score: 36.09\tScore: 35.53\tEval mean return: 37.81\n",
      "Episode 199\tAverage Score: 36.09\tScore: 35.22\tEval mean return: 38.35\n",
      "Episode 200\tAverage Score: 36.11\tScore: 36.47\n",
      "Episode 219\tAverage Score: 36.12\tScore: 35.94\tEval mean return: 38.75\n",
      "Episode 239\tAverage Score: 36.14\tScore: 35.77\tEval mean return: 39.02\n",
      "Episode 250\tAverage Score: 36.07\tScore: 33.61\n",
      "Episode 259\tAverage Score: 35.91\tScore: 33.22\tEval mean return: 37.79\n",
      "Episode 279\tAverage Score: 35.67\tScore: 36.32\tEval mean return: 37.59\n",
      "Episode 299\tAverage Score: 35.50\tScore: 34.87\tEval mean return: 37.60\n",
      "Episode 300\tAverage Score: 35.46\tScore: 32.46\n",
      "Episode 319\tAverage Score: 35.29\tScore: 36.45\tEval mean return: 37.82\n",
      "Episode 339\tAverage Score: 34.92\tScore: 36.84\tEval mean return: 35.77\n",
      "Episode 350\tAverage Score: 34.92\tScore: 33.28\n",
      "Episode 359\tAverage Score: 34.90\tScore: 33.96\tEval mean return: 37.13\n",
      "Episode 379\tAverage Score: 34.94\tScore: 34.10\tEval mean return: 35.23\n",
      "Episode 399\tAverage Score: 34.77\tScore: 35.85\tEval mean return: 37.80\n",
      "Episode 400\tAverage Score: 34.80\tScore: 35.47\n",
      "Episode 419\tAverage Score: 34.57\tScore: 33.07\tEval mean return: 30.91\n",
      "Episode 439\tAverage Score: 34.04\tScore: 34.94\tEval mean return: 35.89\n",
      "Episode 450\tAverage Score: 33.81\tScore: 34.97\n",
      "Episode 459\tAverage Score: 33.79\tScore: 35.18\tEval mean return: 36.10\n",
      "Episode 479\tAverage Score: 33.75\tScore: 37.28\tEval mean return: 38.62\n",
      "Episode 499\tAverage Score: 33.94\tScore: 34.51\tEval mean return: 36.23\n",
      "Episode 500\tAverage Score: 33.95\tScore: 36.37\n",
      "Episode 519\tAverage Score: 34.13\tScore: 35.71\tEval mean return: 36.81\n",
      "Episode 539\tAverage Score: 34.08\tScore: 28.95\tEval mean return: 28.21\n",
      "Episode 550\tAverage Score: 33.68\tScore: 23.61\n",
      "Episode 559\tAverage Score: 32.70\tScore: 24.72\tEval mean return: 30.32\n",
      "Episode 579\tAverage Score: 30.90\tScore: 25.96\tEval mean return: 29.76\n",
      "Episode 599\tAverage Score: 29.67\tScore: 32.31\tEval mean return: 34.70\n",
      "Episode 600\tAverage Score: 29.64\tScore: 33.63\n",
      "Episode 619\tAverage Score: 29.27\tScore: 32.09\tEval mean return: 35.65\n",
      "Episode 639\tAverage Score: 29.38\tScore: 27.68\tEval mean return: 37.42\n",
      "Episode 650\tAverage Score: 29.95\tScore: 33.56\n",
      "Episode 659\tAverage Score: 30.88\tScore: 36.15\tEval mean return: 37.81\n",
      "Episode 679\tAverage Score: 32.04\tScore: 33.22\tEval mean return: 38.19\n",
      "Episode 699\tAverage Score: 33.02\tScore: 35.10\tEval mean return: 34.36\n",
      "Episode 700\tAverage Score: 33.02\tScore: 32.83\n",
      "Episode 719\tAverage Score: 32.71\tScore: 29.10\tEval mean return: 30.75\n",
      "Episode 739\tAverage Score: 32.60\tScore: 35.74\tEval mean return: 33.40\n",
      "Episode 750\tAverage Score: 32.57\tScore: 32.32\n",
      "Episode 759\tAverage Score: 32.56\tScore: 36.14\tEval mean return: 38.46\n",
      "Episode 779\tAverage Score: 32.94\tScore: 33.61\tEval mean return: 36.59\n",
      "Episode 799\tAverage Score: 33.25\tScore: 36.06\tEval mean return: 38.11\n",
      "Episode 800\tAverage Score: 33.27\tScore: 35.42\n",
      "Episode 819\tAverage Score: 33.98\tScore: 33.89\tEval mean return: 38.63\n",
      "Episode 839\tAverage Score: 34.33\tScore: 30.55\tEval mean return: 35.12\n",
      "Episode 850\tAverage Score: 34.25\tScore: 36.64\n",
      "Episode 859\tAverage Score: 34.43\tScore: 36.68\tEval mean return: 37.63\n",
      "Episode 879\tAverage Score: 34.31\tScore: 35.83\tEval mean return: 39.23\n",
      "Episode 899\tAverage Score: 34.18\tScore: 32.52\tEval mean return: 36.71\n",
      "Episode 900\tAverage Score: 34.16\tScore: 33.27\n",
      "Episode 919\tAverage Score: 34.23\tScore: 36.32\tEval mean return: 36.21\n",
      "Episode 939\tAverage Score: 34.31\tScore: 35.28\tEval mean return: 37.49\n",
      "Episode 950\tAverage Score: 34.36\tScore: 32.89\n",
      "Episode 959\tAverage Score: 34.16\tScore: 33.93\tEval mean return: 34.99\n",
      "Episode 979\tAverage Score: 34.42\tScore: 35.11\tEval mean return: 38.92\n",
      "Episode 999\tAverage Score: 34.40\tScore: 35.14\tEval mean return: 32.89\n"
     ]
    }
   ],
   "source": [
    "undisc_G, undisc_eval_G = ddpg_psne_train(env, config, n_episodes=n_episodes, \n",
    "                                          max_t=rollout, prefix=prefix, algo=algo)"
   ]
  },
  {
   "cell_type": "code",
   "execution_count": 13,
   "metadata": {},
   "outputs": [
    {
     "name": "stderr",
     "output_type": "stream",
     "text": [
      "/home/gerti/miniconda3/envs/rl/lib/python3.6/site-packages/seaborn/timeseries.py:183: UserWarning: The `tsplot` function is deprecated and will be removed in a future release. Please update your code to use the new `lineplot` function.\n",
      "  warnings.warn(msg, UserWarning)\n"
     ]
    },
    {
     "data": {
      "image/png": "[encoded data removed]",
      "text/plain": [
       "<Figure size 432x288 with 1 Axes>"
      ]
     },
     "metadata": {
      "needs_background": "light"
     },
     "output_type": "display_data"
    },
    {
     "name": "stderr",
     "output_type": "stream",
     "text": [
      "/home/gerti/miniconda3/envs/rl/lib/python3.6/site-packages/seaborn/timeseries.py:183: UserWarning: The `tsplot` function is deprecated and will be removed in a future release. Please update your code to use the new `lineplot` function.\n",
      "  warnings.warn(msg, UserWarning)\n"
     ]
    },
    {
     "data": {
      "image/png": "[encoded data removed]",
      "text/plain": [
       "<Figure size 432x288 with 1 Axes>"
      ]
     },
     "metadata": {
      "needs_background": "light"
     },
     "output_type": "display_data"
    }
   ],
   "source": [
    "data = None\n",
    "if os.path.isfile(os.path.join(log_dir, pickl_name)):\n",
    "    with open(os.path.join(log_dir, pickl_name), mode='rb') as pf:\n",
    "        data = pickle.load(pf)\n",
    "        data[seed] = (undisc_G, undisc_eval_G)\n",
    "    with open(os.path.join(log_dir, pickl_name), mode='wb') as pf:\n",
    "        pickle.dump(data, pf)\n",
    "else:\n",
    "    with open(os.path.join(log_dir, pickl_name), mode='wb') as pf:\n",
    "        pickle.dump({seed:(undisc_G, undisc_eval_G)}, pf)\n",
    "\n",
    "if data is not None:\n",
    "    plot_scores(data)\n"
   ]
  },
  {
   "cell_type": "code",
   "execution_count": null,
   "metadata": {},
   "outputs": [],
   "source": []
  }
 ],
 "metadata": {
  "kernelspec": {
   "display_name": "Python 3",
   "language": "python",
   "name": "python3"
  },
  "language_info": {
   "codemirror_mode": {
    "name": "ipython",
    "version": 3
   },
   "file_extension": ".py",
   "mimetype": "text/x-python",
   "name": "python",
   "nbconvert_exporter": "python",
   "pygments_lexer": "ipython3",
   "version": "3.5.5"
  }
 },
 "nbformat": 4,
 "nbformat_minor": 2
}
